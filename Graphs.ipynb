{
 "cells": [
  {
   "cell_type": "markdown",
   "id": "a9e059ea",
   "metadata": {},
   "source": [
    "Create a graph function that takes any dataset and create a boxplot and a histogram for numerical variables and a barplot for categorical variables and save them as PNG files in a specified repository. If no repository is specified then by default the graphs get stored in the working directory. The functions also give an additional argument to the user to choose a list of columns. If no list of columns is given the default setting must choose all the columns of the dataset."
   ]
  },
  {
   "cell_type": "markdown",
   "id": "ce47c985",
   "metadata": {},
   "source": [
    "### Problem Statement:"
   ]
  },
  {
   "cell_type": "markdown",
   "id": "5c024d6c",
   "metadata": {},
   "source": [
    "#### What?"
   ]
  },
  {
   "cell_type": "markdown",
   "id": "87157ab5",
   "metadata": {},
   "source": [
    "For data analysis, plotting graphs of any kind in python consumes ample amount of time before actually studying the data. \n",
    "\n",
    "The task is to create an user defined function which will plot the graphs (Histogram & Boxplot for numeric columns, Bar plot for categorical columns) of any kind and any number of columns in the dataset and store the graphs as an image file in the required directory. "
   ]
  },
  {
   "cell_type": "markdown",
   "id": "0c457b51",
   "metadata": {},
   "source": [
    "#### Why?"
   ]
  },
  {
   "cell_type": "markdown",
   "id": "91311e4a",
   "metadata": {},
   "source": [
    "As an analyst, solving this problem will help us minimize the time spent to plot simple graphs of the data under analysis.\n",
    "Another important advantage of creating this function is to understand the variables thoroughly and do a descriptive study on them viz,. understanding their distribution, presence of outliers, etc,.\n",
    "\n",
    "This function which plots such graphs of the input data will give us more time to do the other important things in machine learning or model creation pipleine. "
   ]
  },
  {
   "cell_type": "markdown",
   "id": "e29d5075",
   "metadata": {},
   "source": [
    "#### How?"
   ]
  },
  {
   "cell_type": "markdown",
   "id": "385152db",
   "metadata": {},
   "source": [
    "* Generate a function **Graphs(dataframe, columns, directory)**\n",
    "* Check how many columns are specified by the user in the function and read those columns present in the dataframe. By   default, read all the columns.\n",
    "* Remove the S.No column, if any,present in the dataset using the if statement.\n",
    "* Boxplot will not be plotted with the presence of null values. Hence **remove the null values** present in any column of the dataset.\n",
    "* Differentiate between numerical and categorical variables using **select_dtypes** method from pandas.\n",
    "    * Columns having object dtypes are put in categorical variables\n",
    "    * All other columns are put in numerical variables\n",
    "* Categorical variables which are in number format present in numerical variable dataframe are seperated using the conditions:\n",
    "    * **data type** of the variable should **Not be FLOAT**. \n",
    "    * **variance** of such variables will be less than 20.\n",
    "    * **number of unique values** in those variables will be less than 8% of length of the dataframe under consideration.\n",
    "    * Then these seperated variables are merged with the object categorical variables(created in the previous step).\n",
    "* Plot horizontal box-plot on top of the histogram for all numerical variables.\n",
    "* Plot bar plot for all categorical variables.\n",
    "* Save all the graphs as an image file(PNG format) in the user defined directory. By default, save it in the current working directory. The file names of the images should be the name of the columns.\n"
   ]
  },
  {
   "cell_type": "markdown",
   "id": "91d61b34",
   "metadata": {},
   "source": [
    "#### Expected Output:"
   ]
  },
  {
   "cell_type": "markdown",
   "id": "10fe7059",
   "metadata": {},
   "source": [
    "The expected outputs are as many image files as there are columns specified by the user and all the files are to be saved in a single location."
   ]
  },
  {
   "cell_type": "code",
   "execution_count": null,
   "id": "5db4550b",
   "metadata": {},
   "outputs": [],
   "source": []
  },
  {
   "cell_type": "code",
   "execution_count": 1,
   "id": "444b54bd",
   "metadata": {},
   "outputs": [],
   "source": [
    "#importing libraries\n",
    "import numpy as np\n",
    "import pandas as pd\n",
    "import matplotlib.pyplot as plt\n",
    "import random\n",
    "import math"
   ]
  },
  {
   "cell_type": "code",
   "execution_count": null,
   "id": "70ba6320",
   "metadata": {},
   "outputs": [],
   "source": [
    "cars = pd.read_csv('cars.csv') #reading the data"
   ]
  },
  {
   "cell_type": "code",
   "execution_count": null,
   "id": "6956d308",
   "metadata": {},
   "outputs": [],
   "source": [
    "cars.head()"
   ]
  },
  {
   "cell_type": "code",
   "execution_count": null,
   "id": "07dd5727",
   "metadata": {},
   "outputs": [],
   "source": [
    "cars.shape"
   ]
  },
  {
   "cell_type": "code",
   "execution_count": null,
   "id": "b7bb253d",
   "metadata": {},
   "outputs": [],
   "source": [
    "if cars.iloc[:,0].max() == len(cars): #if the first column is serial number remove it\n",
    "    cars = cars.iloc[:,1:]"
   ]
  },
  {
   "cell_type": "code",
   "execution_count": null,
   "id": "ca81f024",
   "metadata": {},
   "outputs": [],
   "source": [
    "cars.dtypes #dtype of all variables"
   ]
  },
  {
   "cell_type": "code",
   "execution_count": null,
   "id": "f2433f54",
   "metadata": {},
   "outputs": [],
   "source": [
    "catg = cars.select_dtypes('object') #selecting only variables of object dtype \n",
    "catg"
   ]
  },
  {
   "cell_type": "code",
   "execution_count": null,
   "id": "d59eae93",
   "metadata": {},
   "outputs": [],
   "source": [
    "num = cars.select_dtypes(exclude='object') #excluding variables of object dtype storing it in a variable"
   ]
  },
  {
   "cell_type": "code",
   "execution_count": null,
   "id": "72af076c",
   "metadata": {},
   "outputs": [],
   "source": [
    "num"
   ]
  },
  {
   "cell_type": "code",
   "execution_count": null,
   "id": "d4db907f",
   "metadata": {},
   "outputs": [],
   "source": [
    "num.nunique() #finding the number of unique values in the object excluded dataframe"
   ]
  },
  {
   "cell_type": "code",
   "execution_count": null,
   "id": "054368f7",
   "metadata": {},
   "outputs": [],
   "source": [
    "catg_check =( (num.dtypes!=float) \n",
    "             & (num.var() < 20) \n",
    "             & (num.nunique() < 0.08*len(cars))) #condition to check which variables(dtype=other than float) \n",
    "                                                #has variance less than 20 and the number of unique values\n",
    "                                                #in that variable is less than 8% of length of the dataframe\n",
    "catg_check"
   ]
  },
  {
   "cell_type": "code",
   "execution_count": null,
   "id": "2a36954a",
   "metadata": {},
   "outputs": [],
   "source": [
    "a = catg_check[catg_check].index #retreiving the index of such variables. \n",
    "                                 #These variable are those whose dtype is int but they are categorical in nature\n",
    "a"
   ]
  },
  {
   "cell_type": "code",
   "execution_count": null,
   "id": "7a1989af",
   "metadata": {},
   "outputs": [],
   "source": [
    "a = cars[a] #storing those categorical variables in a new dataframe"
   ]
  },
  {
   "cell_type": "code",
   "execution_count": null,
   "id": "0d9bf3a8",
   "metadata": {},
   "outputs": [],
   "source": [
    "a #categorical variables whose dtype is int"
   ]
  },
  {
   "cell_type": "code",
   "execution_count": null,
   "id": "c611ec8e",
   "metadata": {},
   "outputs": [],
   "source": [
    "catg #categorical variables whose dtype is object"
   ]
  },
  {
   "cell_type": "code",
   "execution_count": null,
   "id": "e77b17ea",
   "metadata": {},
   "outputs": [],
   "source": [
    "catg = pd.concat([catg,a],axis=1) #concatenating both the dataframes into a single dataframe"
   ]
  },
  {
   "cell_type": "code",
   "execution_count": null,
   "id": "c2c8972f",
   "metadata": {},
   "outputs": [],
   "source": [
    "catg #dataframe having pure categorical variables"
   ]
  },
  {
   "cell_type": "code",
   "execution_count": null,
   "id": "3b89bde9",
   "metadata": {},
   "outputs": [],
   "source": [
    "num = num.drop(columns=a) #dropping the categorical variables from the numerical variables dataframe"
   ]
  },
  {
   "cell_type": "code",
   "execution_count": null,
   "id": "7c6fccb3",
   "metadata": {},
   "outputs": [],
   "source": [
    "num #dataframe having pure numerical variables"
   ]
  },
  {
   "cell_type": "code",
   "execution_count": null,
   "id": "2c47a97c",
   "metadata": {},
   "outputs": [],
   "source": [
    "#bar plot for all categorical variables\n",
    "for i in range(0,catg.shape[1]):\n",
    "    catg.iloc[:,i].value_counts().plot(kind='barh')\n",
    "    plt.ylabel(catg.columns[i])\n",
    "    plt.xlabel('Count')\n",
    "    plt.title('Frequency Chart')\n",
    "    plt.show()"
   ]
  },
  {
   "cell_type": "code",
   "execution_count": null,
   "id": "9a3b1fb0",
   "metadata": {},
   "outputs": [],
   "source": [
    "#boxplot and histogram for all numerical variables\n",
    "for i in range(0,num.shape[1]):\n",
    "    fig, (ax1, ax2) = plt.subplots(2, 1)\n",
    "    fig.suptitle(num.columns[i])\n",
    "    ax1.boxplot(num.iloc[:,i],vert=False,patch_artist=True,boxprops = dict(facecolor='green'),\n",
    "               medianprops = dict(color='black'))\n",
    "    #ax1.set_xlabel('Units')\n",
    "    #ax1.set_ylabel(cars.columns[i])\n",
    "    ax2.hist(num.iloc[:,i],color='maroon',edgecolor='black')\n",
    "    ax2.set_xlabel('Units')\n",
    "    ax2.set_ylabel('Frequency')\n",
    "    fig.set_figheight(8)\n",
    "    fig.set_figwidth(6)\n",
    "    #plt.savefig(str(num.columns[i])+'.png')\n",
    "    plt.show()\n"
   ]
  },
  {
   "cell_type": "markdown",
   "id": "446ed060",
   "metadata": {},
   "source": [
    "# Function:"
   ]
  },
  {
   "cell_type": "code",
   "execution_count": null,
   "id": "5f59496c",
   "metadata": {},
   "outputs": [],
   "source": [
    "import os                                            #importing os\n",
    "import pandas as pd                                  #importing pandas library\n",
    "import matplotlib.pyplot as plt                      #importing matplotlib.pyplot\n",
    "import numpy as np                                   #importing numpy library\n",
    "def graphs(df,cols=[],directory=os.getcwd(),fileformat='jpg'):        #function is defined with default value for directory\n",
    "    length=len(df)                                   #length of the dataframe is stored in a variable\n",
    "    cwd = os.getcwd()                                #current working directory is stored in a variable\n",
    "    os.chdir(directory)                              #if the user gives a directory, the same is changed\n",
    "    if len(cols) != 0:                               #if the user specifies the number of columns, this statement is executed\n",
    "        df = df[cols]                                #only the specified columns are considered in the dataframe\n",
    "    if df.iloc[:,0].max() == len(df):                #if the first column is a serial number\n",
    "        df = df.iloc[:,1:]                           #we remove it\n",
    "    for i in range(0,df.shape[1]):                   #for the entire dataframe\n",
    "        if df.iloc[:,i].isnull().sum() > 0:          #if there are null values present in any column\n",
    "            df = df.dropna(subset=[df.columns[i]])   #we drop it as boxplot can't be plotted for null values\n",
    "    catg_df = df.select_dtypes('object')             #variables with object dtypes are set as categorical variables dataframe\n",
    "    num_df = df.select_dtypes(exclude='object')      #variables which are NOT object dtypes are set as numerical variables dataframe\n",
    "    catg_check = ((num_df.dtypes!=float) & (num_df.var() < 20) & (num_df.nunique() < 0.08*(length))) #numerical variables which are not of float dtype, has variance less than 20 and unique values less than 8% of the length of dataframe is retrieved \n",
    "    a = catg_check[catg_check].index                 #The index of such variables are stored as an array\n",
    "    a = df[a]                                        #dataframe is created with such variables\n",
    "    catg_df = pd.concat([catg_df,a],axis=1)          #we are merging the newly created categorial dataframe and earlier created object dataframe together\n",
    "    num_df = num_df.drop(columns=a)                  #dropping the categorical variable(dtype=int) from the numerical variable dataframe\n",
    "    if len(catg_df) > 0:                             #if the user input data has categorical values\n",
    "        for i in range(0,catg_df.shape[1]):          #for all categorical variables\n",
    "            if catg_df.iloc[:,i].nunique() > 100:    #if the number of unique values in that variable is more than 100\n",
    "                catg_df.iloc[:,i].value_counts().plot(kind='barh',figsize=(25,100),color='maroon') #such large sized graph is plotted\n",
    "                plt.ylabel(catg_df.columns[i],fontsize=16)     #setting y-axis labels and fontsize\n",
    "                plt.xlabel('Count',fontsize=16)                #setting x-axis labels and fontsize\n",
    "                plt.title('Frequency Chart',fontsize=18)       #setting title name and fontsize\n",
    "                plt.savefig(str(catg_df.columns[i])+'.'+fileformat)    #we are saving the graph as an image in png format(file name - name of categorical variable)\n",
    "                plt.show()                                     #displaying the graph as an output                    \n",
    "            else:                                    #if the number of unique values in that variable is less than or equal to 100\n",
    "                catg_df.iloc[:,i].value_counts().plot(kind='barh',figsize=(12,6),color='maroon')    #such regular sized graph is plotted\n",
    "                plt.ylabel(catg_df.columns[i],fontsize=16)     #setting y-axis labels and fontsize\n",
    "                plt.xlabel('Count',fontsize=16)                #setting x-axis labels and fontsize\n",
    "                plt.title('Frequency Chart',fontsize=18)       #setting title name and fontsize\n",
    "                plt.savefig(str(catg_df.columns[i])+'.'+fileformat)    #we are saving the graph as an image in png format(file name - name of categorical variable)\n",
    "                plt.show()                                     #displaying the graph as an output            \n",
    "            for j in range(0,num_df.shape[1]):\n",
    "                if catg_df.iloc[:,i].nunique() > 100:\n",
    "                    df[[catg_df.columns[i],num_df.columns[j]]].groupby([catg_df.columns[i]]).mean().sort_values(num_df.columns[j],ascending=False).plot(kind='bar',color='maroon',figsize=(100,25))\n",
    "                    plt.ylabel('Average '+num_df.columns[j],fontsize=16)\n",
    "                    plt.title('Average '+num_df.columns[j]+' of different '+catg_df.columns[i],fontsize=18)\n",
    "                    plt.savefig('Average '+num_df.columns[j]+' of different '+catg_df.columns[i]+'.'+fileformat)\n",
    "                    plt.show()                    \n",
    "                else:\n",
    "                    df[[catg_df.columns[i],num_df.columns[j]]].groupby([catg_df.columns[i]]).mean().sort_values(num_df.columns[j],ascending=False).plot(kind='bar',color='maroon',figsize=(6,12))\n",
    "                    plt.ylabel('Average '+num_df.columns[j],fontsize=16)\n",
    "                    plt.title('Average '+num_df.columns[j]+' of different '+catg_df.columns[i],fontsize=18)\n",
    "                    plt.savefig('Average '+num_df.columns[j]+' of different '+catg_df.columns[i]+'.'+fileformat)\n",
    "                    plt.show()\n",
    "    if len(num_df) > 0:                                    #if the user input data has numerical values\n",
    "        for i in range(0,num_df.shape[1]):                 #for all numerical variables\n",
    "            fig, (ax1, ax2) = plt.subplots(2, 1)           #subplot method is called to plot two graphs at the same time\n",
    "            fig.suptitle(num_df.columns[i],fontsize=20)    #setting title name and fontsize\n",
    "            ax1.boxplot(num_df.iloc[:,i],vert=False,patch_artist=True,boxprops = dict(facecolor='green'),\n",
    "               medianprops = dict(color='black'))          #boxplot is plotted on the top\n",
    "            ax2.hist(num_df.iloc[:,i],color='maroon',edgecolor='black') #histogram is plotted below the boxplot\n",
    "            ax2.set_xlabel('Units',fontsize=14)            #setting x-axis labels and fontsize\n",
    "            ax2.set_ylabel('Frequency',fontsize=14)        #setting x-axis labels and fontsize\n",
    "            fig.set_figheight(10)                          #setting the graph height\n",
    "            fig.set_figwidth(8)                            #setting the graph width\n",
    "            plt.savefig(str(num_df.columns[i])+'.'+fileformat)     #we are saving the graph as an image in png format(file name - name of numerical variable)\n",
    "            plt.show()                                     #displaying the graph as an output\n",
    "    if len(catg_df) > 0 and len(num_df > 0):\n",
    "        for i in range(0,catg_df.shape[1]):          #for all categorical variables\n",
    "            if catg_df.iloc[:,i].nunique() > 100:\n",
    "                for j in range(0,num_df.shape[1]):\n",
    "                    df.boxplot(column=num_df.columns[j],by=catg_df.columns[i],figsize=(100,25),patch_artist=True,boxprops = dict(facecolor='green'),\n",
    "               medianprops = dict(color='black'))\n",
    "                    plt.xticks(rotation=90)\n",
    "                    plt.savefig('Boxplot of '+num_df.columns[j]+' grouped by '+catg_df.columns[i]+'.'+fileformat)\n",
    "                    plt.show()\n",
    "            else:\n",
    "                for j in range(0,num_df.shape[1]):\n",
    "                    df.boxplot(column=num_df.columns[j],by=catg_df.columns[i],grid=False,figsize=(8,6),patch_artist=True,boxprops = dict(facecolor='green'),\n",
    "               medianprops = dict(color='black'))\n",
    "                    plt.savefig('Boxplot of '+num_df.columns[j]+' grouped by '+catg_df.columns[i]+'.'+fileformat)\n",
    "                    plt.show()         \n",
    "    os.chdir(cwd)                                          #changing the directory to current working directory"
   ]
  },
  {
   "cell_type": "code",
   "execution_count": null,
   "id": "7e8d726a",
   "metadata": {},
   "outputs": [],
   "source": [
    "a = ['Car','MPG']  #specifying the columns\n",
    "#directory = r'D:\\DS'       #specifying the directory\n",
    "file = 'pdf'\n",
    "graphs(cars,a,directory=r'D:\\DS')           #executing the created function"
   ]
  },
  {
   "cell_type": "code",
   "execution_count": null,
   "id": "6d4f83e0",
   "metadata": {},
   "outputs": [],
   "source": [
    "os.chdir(r'D:\\DS\\Python\\Praxis\\PY')\n",
    "iris = pd.read_csv('iris.csv')"
   ]
  },
  {
   "cell_type": "code",
   "execution_count": null,
   "id": "19463639",
   "metadata": {},
   "outputs": [],
   "source": [
    "graphs(iris)"
   ]
  },
  {
   "cell_type": "code",
   "execution_count": null,
   "id": "24e4504b",
   "metadata": {},
   "outputs": [],
   "source": [
    "telco = pd.read_excel('telco.xls')"
   ]
  },
  {
   "cell_type": "code",
   "execution_count": null,
   "id": "fe68d80b",
   "metadata": {},
   "outputs": [],
   "source": [
    "graphs(telco)"
   ]
  },
  {
   "cell_type": "code",
   "execution_count": null,
   "id": "9af0112a",
   "metadata": {},
   "outputs": [],
   "source": []
  },
  {
   "cell_type": "code",
   "execution_count": null,
   "id": "d54fa0d7",
   "metadata": {},
   "outputs": [],
   "source": [
    "'''\n",
    "os.chdir(r'D:\\DS\\Praxis\\Study Material\\Dataset')\n",
    "walmart = pd.read_csv('Walmart_Store_sales.csv')\n",
    "os.chdir(r'D:\\DS\\Python\\Praxis\\PY')\n",
    "'''"
   ]
  }
 ],
 "metadata": {
  "kernelspec": {
   "display_name": "Python 3",
   "language": "python",
   "name": "python3"
  },
  "language_info": {
   "codemirror_mode": {
    "name": "ipython",
    "version": 3
   },
   "file_extension": ".py",
   "mimetype": "text/x-python",
   "name": "python",
   "nbconvert_exporter": "python",
   "pygments_lexer": "ipython3",
   "version": "3.8.8"
  }
 },
 "nbformat": 4,
 "nbformat_minor": 5
}
