{
 "cells": [
  {
   "cell_type": "code",
   "execution_count": 1,
   "id": "7a735a09",
   "metadata": {},
   "outputs": [],
   "source": [
    "#Importing Libraries\n",
    "\n",
    "import pandas as pd\n",
    "import numpy as np\n",
    "import matplotlib.pyplot as plt\n",
    "import statsmodels.api as sm\n",
    "import statsmodels.tsa.stattools as ts\n",
    "from statsmodels.tsa.api import VAR\n",
    "from statsmodels.tsa.stattools import adfuller, grangercausalitytests\n",
    "from statsmodels.tools.eval_measures import rmse, aic\n",
    "from statsmodels.tsa import arima\n",
    "from statsmodels.graphics.tsaplots import acf, pacf\n",
    "from statsmodels.graphics.tsaplots import plot_acf, plot_pacf\n",
    "from pmdarima import auto_arima\n",
    "from sklearn.metrics import mean_squared_error\n",
    "\n",
    "import warnings\n",
    "warnings.filterwarnings(\"ignore\")"
   ]
  },
  {
   "cell_type": "code",
   "execution_count": 2,
   "id": "613491df",
   "metadata": {},
   "outputs": [],
   "source": [
    "#Load data - US Macro Economic Data from 1959-Q1 to 2009-Q3\n",
    "\n",
    "data = sm.datasets.macrodata.load_pandas().data"
   ]
  },
  {
   "cell_type": "code",
   "execution_count": 3,
   "id": "0070723f",
   "metadata": {},
   "outputs": [
    {
     "data": {
      "text/html": [
       "<div>\n",
       "<style scoped>\n",
       "    .dataframe tbody tr th:only-of-type {\n",
       "        vertical-align: middle;\n",
       "    }\n",
       "\n",
       "    .dataframe tbody tr th {\n",
       "        vertical-align: top;\n",
       "    }\n",
       "\n",
       "    .dataframe thead th {\n",
       "        text-align: right;\n",
       "    }\n",
       "</style>\n",
       "<table border=\"1\" class=\"dataframe\">\n",
       "  <thead>\n",
       "    <tr style=\"text-align: right;\">\n",
       "      <th></th>\n",
       "      <th>year</th>\n",
       "      <th>quarter</th>\n",
       "      <th>realgdp</th>\n",
       "      <th>realcons</th>\n",
       "      <th>realinv</th>\n",
       "      <th>realgovt</th>\n",
       "      <th>realdpi</th>\n",
       "      <th>cpi</th>\n",
       "      <th>m1</th>\n",
       "      <th>tbilrate</th>\n",
       "      <th>unemp</th>\n",
       "      <th>pop</th>\n",
       "      <th>infl</th>\n",
       "      <th>realint</th>\n",
       "    </tr>\n",
       "  </thead>\n",
       "  <tbody>\n",
       "    <tr>\n",
       "      <th>0</th>\n",
       "      <td>1959.0</td>\n",
       "      <td>1.0</td>\n",
       "      <td>2710.349</td>\n",
       "      <td>1707.4</td>\n",
       "      <td>286.898</td>\n",
       "      <td>470.045</td>\n",
       "      <td>1886.9</td>\n",
       "      <td>28.98</td>\n",
       "      <td>139.7</td>\n",
       "      <td>2.82</td>\n",
       "      <td>5.8</td>\n",
       "      <td>177.146</td>\n",
       "      <td>0.00</td>\n",
       "      <td>0.00</td>\n",
       "    </tr>\n",
       "    <tr>\n",
       "      <th>1</th>\n",
       "      <td>1959.0</td>\n",
       "      <td>2.0</td>\n",
       "      <td>2778.801</td>\n",
       "      <td>1733.7</td>\n",
       "      <td>310.859</td>\n",
       "      <td>481.301</td>\n",
       "      <td>1919.7</td>\n",
       "      <td>29.15</td>\n",
       "      <td>141.7</td>\n",
       "      <td>3.08</td>\n",
       "      <td>5.1</td>\n",
       "      <td>177.830</td>\n",
       "      <td>2.34</td>\n",
       "      <td>0.74</td>\n",
       "    </tr>\n",
       "    <tr>\n",
       "      <th>2</th>\n",
       "      <td>1959.0</td>\n",
       "      <td>3.0</td>\n",
       "      <td>2775.488</td>\n",
       "      <td>1751.8</td>\n",
       "      <td>289.226</td>\n",
       "      <td>491.260</td>\n",
       "      <td>1916.4</td>\n",
       "      <td>29.35</td>\n",
       "      <td>140.5</td>\n",
       "      <td>3.82</td>\n",
       "      <td>5.3</td>\n",
       "      <td>178.657</td>\n",
       "      <td>2.74</td>\n",
       "      <td>1.09</td>\n",
       "    </tr>\n",
       "    <tr>\n",
       "      <th>3</th>\n",
       "      <td>1959.0</td>\n",
       "      <td>4.0</td>\n",
       "      <td>2785.204</td>\n",
       "      <td>1753.7</td>\n",
       "      <td>299.356</td>\n",
       "      <td>484.052</td>\n",
       "      <td>1931.3</td>\n",
       "      <td>29.37</td>\n",
       "      <td>140.0</td>\n",
       "      <td>4.33</td>\n",
       "      <td>5.6</td>\n",
       "      <td>179.386</td>\n",
       "      <td>0.27</td>\n",
       "      <td>4.06</td>\n",
       "    </tr>\n",
       "    <tr>\n",
       "      <th>4</th>\n",
       "      <td>1960.0</td>\n",
       "      <td>1.0</td>\n",
       "      <td>2847.699</td>\n",
       "      <td>1770.5</td>\n",
       "      <td>331.722</td>\n",
       "      <td>462.199</td>\n",
       "      <td>1955.5</td>\n",
       "      <td>29.54</td>\n",
       "      <td>139.6</td>\n",
       "      <td>3.50</td>\n",
       "      <td>5.2</td>\n",
       "      <td>180.007</td>\n",
       "      <td>2.31</td>\n",
       "      <td>1.19</td>\n",
       "    </tr>\n",
       "  </tbody>\n",
       "</table>\n",
       "</div>"
      ],
      "text/plain": [
       "     year  quarter   realgdp  realcons  realinv  realgovt  realdpi    cpi  \\\n",
       "0  1959.0      1.0  2710.349    1707.4  286.898   470.045   1886.9  28.98   \n",
       "1  1959.0      2.0  2778.801    1733.7  310.859   481.301   1919.7  29.15   \n",
       "2  1959.0      3.0  2775.488    1751.8  289.226   491.260   1916.4  29.35   \n",
       "3  1959.0      4.0  2785.204    1753.7  299.356   484.052   1931.3  29.37   \n",
       "4  1960.0      1.0  2847.699    1770.5  331.722   462.199   1955.5  29.54   \n",
       "\n",
       "      m1  tbilrate  unemp      pop  infl  realint  \n",
       "0  139.7      2.82    5.8  177.146  0.00     0.00  \n",
       "1  141.7      3.08    5.1  177.830  2.34     0.74  \n",
       "2  140.5      3.82    5.3  178.657  2.74     1.09  \n",
       "3  140.0      4.33    5.6  179.386  0.27     4.06  \n",
       "4  139.6      3.50    5.2  180.007  2.31     1.19  "
      ]
     },
     "execution_count": 3,
     "metadata": {},
     "output_type": "execute_result"
    }
   ],
   "source": [
    "data.head()"
   ]
  },
  {
   "cell_type": "code",
   "execution_count": 4,
   "id": "24ea50b3",
   "metadata": {},
   "outputs": [],
   "source": [
    "#for explanation purpose we only take two variables - realgdp and realdpi\n",
    "\n",
    "#realgdp - Real Gross Domestic Product: measure that reflects the value of all goods and services produced by an economy after adjusting for inflation\n",
    "\n",
    "#realdpi - Real Disposable Personal Income: Net income left over after taxes and adjusted for inflation"
   ]
  },
  {
   "cell_type": "code",
   "execution_count": 5,
   "id": "d3ffcdc2",
   "metadata": {},
   "outputs": [],
   "source": [
    "df = data[['realgdp','realdpi']]\n",
    "df.index = data['year']"
   ]
  },
  {
   "cell_type": "code",
   "execution_count": 6,
   "id": "096613ae",
   "metadata": {},
   "outputs": [
    {
     "data": {
      "text/html": [
       "<div>\n",
       "<style scoped>\n",
       "    .dataframe tbody tr th:only-of-type {\n",
       "        vertical-align: middle;\n",
       "    }\n",
       "\n",
       "    .dataframe tbody tr th {\n",
       "        vertical-align: top;\n",
       "    }\n",
       "\n",
       "    .dataframe thead th {\n",
       "        text-align: right;\n",
       "    }\n",
       "</style>\n",
       "<table border=\"1\" class=\"dataframe\">\n",
       "  <thead>\n",
       "    <tr style=\"text-align: right;\">\n",
       "      <th></th>\n",
       "      <th>realgdp</th>\n",
       "      <th>realdpi</th>\n",
       "    </tr>\n",
       "    <tr>\n",
       "      <th>year</th>\n",
       "      <th></th>\n",
       "      <th></th>\n",
       "    </tr>\n",
       "  </thead>\n",
       "  <tbody>\n",
       "    <tr>\n",
       "      <th>1959.0</th>\n",
       "      <td>2710.349</td>\n",
       "      <td>1886.9</td>\n",
       "    </tr>\n",
       "    <tr>\n",
       "      <th>1959.0</th>\n",
       "      <td>2778.801</td>\n",
       "      <td>1919.7</td>\n",
       "    </tr>\n",
       "    <tr>\n",
       "      <th>1959.0</th>\n",
       "      <td>2775.488</td>\n",
       "      <td>1916.4</td>\n",
       "    </tr>\n",
       "    <tr>\n",
       "      <th>1959.0</th>\n",
       "      <td>2785.204</td>\n",
       "      <td>1931.3</td>\n",
       "    </tr>\n",
       "    <tr>\n",
       "      <th>1960.0</th>\n",
       "      <td>2847.699</td>\n",
       "      <td>1955.5</td>\n",
       "    </tr>\n",
       "  </tbody>\n",
       "</table>\n",
       "</div>"
      ],
      "text/plain": [
       "         realgdp  realdpi\n",
       "year                     \n",
       "1959.0  2710.349   1886.9\n",
       "1959.0  2778.801   1919.7\n",
       "1959.0  2775.488   1916.4\n",
       "1959.0  2785.204   1931.3\n",
       "1960.0  2847.699   1955.5"
      ]
     },
     "execution_count": 6,
     "metadata": {},
     "output_type": "execute_result"
    }
   ],
   "source": [
    "df.head()"
   ]
  },
  {
   "cell_type": "code",
   "execution_count": 7,
   "id": "c7e3d54c",
   "metadata": {},
   "outputs": [
    {
     "data": {
      "image/png": "[encoded data removed]",
      "text/plain": [
       "<Figure size 576x432 with 1 Axes>"
      ]
     },
     "metadata": {
      "needs_background": "light"
     },
     "output_type": "display_data"
    }
   ],
   "source": [
    "#Visualize the time series\n",
    "\n",
    "df.plot(figsize=(8,6))\n",
    "plt.show()"
   ]
  },
  {
   "cell_type": "markdown",
   "id": "e60a658c",
   "metadata": {},
   "source": [
    "**ARIMA**"
   ]
  },
  {
   "cell_type": "code",
   "execution_count": 8,
   "id": "70310fbd",
   "metadata": {},
   "outputs": [],
   "source": [
    "arima_df = df.copy()"
   ]
  },
  {
   "cell_type": "code",
   "execution_count": 9,
   "id": "890636c1",
   "metadata": {},
   "outputs": [
    {
     "data": {
      "text/html": [
       "<div>\n",
       "<style scoped>\n",
       "    .dataframe tbody tr th:only-of-type {\n",
       "        vertical-align: middle;\n",
       "    }\n",
       "\n",
       "    .dataframe tbody tr th {\n",
       "        vertical-align: top;\n",
       "    }\n",
       "\n",
       "    .dataframe thead th {\n",
       "        text-align: right;\n",
       "    }\n",
       "</style>\n",
       "<table border=\"1\" class=\"dataframe\">\n",
       "  <thead>\n",
       "    <tr style=\"text-align: right;\">\n",
       "      <th></th>\n",
       "      <th>realgdp</th>\n",
       "      <th>realdpi</th>\n",
       "    </tr>\n",
       "    <tr>\n",
       "      <th>year</th>\n",
       "      <th></th>\n",
       "      <th></th>\n",
       "    </tr>\n",
       "  </thead>\n",
       "  <tbody>\n",
       "    <tr>\n",
       "      <th>1959.0</th>\n",
       "      <td>2710.349</td>\n",
       "      <td>1886.9</td>\n",
       "    </tr>\n",
       "    <tr>\n",
       "      <th>1959.0</th>\n",
       "      <td>2778.801</td>\n",
       "      <td>1919.7</td>\n",
       "    </tr>\n",
       "    <tr>\n",
       "      <th>1959.0</th>\n",
       "      <td>2775.488</td>\n",
       "      <td>1916.4</td>\n",
       "    </tr>\n",
       "    <tr>\n",
       "      <th>1959.0</th>\n",
       "      <td>2785.204</td>\n",
       "      <td>1931.3</td>\n",
       "    </tr>\n",
       "    <tr>\n",
       "      <th>1960.0</th>\n",
       "      <td>2847.699</td>\n",
       "      <td>1955.5</td>\n",
       "    </tr>\n",
       "  </tbody>\n",
       "</table>\n",
       "</div>"
      ],
      "text/plain": [
       "         realgdp  realdpi\n",
       "year                     \n",
       "1959.0  2710.349   1886.9\n",
       "1959.0  2778.801   1919.7\n",
       "1959.0  2775.488   1916.4\n",
       "1959.0  2785.204   1931.3\n",
       "1960.0  2847.699   1955.5"
      ]
     },
     "execution_count": 9,
     "metadata": {},
     "output_type": "execute_result"
    }
   ],
   "source": [
    "arima_df.head()"
   ]
  },
  {
   "cell_type": "markdown",
   "id": "a80fcc8f",
   "metadata": {},
   "source": [
    "**realgdp**"
   ]
  },
  {
   "cell_type": "code",
   "execution_count": 10,
   "id": "ae6c2352",
   "metadata": {},
   "outputs": [],
   "source": [
    "y = arima_df['realgdp']"
   ]
  },
  {
   "cell_type": "code",
   "execution_count": 11,
   "id": "cf27b675",
   "metadata": {},
   "outputs": [
    {
     "name": "stdout",
     "output_type": "stream",
     "text": [
      "ADF Statistic: 1.750463\n",
      "p-value: 0.998246\n",
      "Critical Values:\n",
      "\t1%: -3.465\n",
      "\t5%: -2.877\n",
      "\t10%: -2.575\n"
     ]
    }
   ],
   "source": [
    "# Stationarity Test\n",
    "result = adfuller(y)\n",
    "print('ADF Statistic: %f' % result[0])\n",
    "print('p-value: %f' % result[1])\n",
    "print('Critical Values:')\n",
    "for key, value in result[4].items():\n",
    "    print('\\t%s: %.3f' % (key, value))"
   ]
  },
  {
   "cell_type": "code",
   "execution_count": 12,
   "id": "ae68ae6a",
   "metadata": {},
   "outputs": [],
   "source": [
    "# difference once\n",
    "arima_df[\"Diff_realgdp\"] = arima_df[\"realgdp\"].diff()\n",
    "diff_values = arima_df[\"Diff_realgdp\"].values\n",
    "y_diff = diff_values[~np.isnan(diff_values)]\n",
    "y = y_diff"
   ]
  },
  {
   "cell_type": "code",
   "execution_count": 13,
   "id": "119e8f14",
   "metadata": {},
   "outputs": [
    {
     "name": "stdout",
     "output_type": "stream",
     "text": [
      "ADF Statistic: -6.305696\n",
      "p-value: 0.000000\n",
      "Critical Values:\n",
      "\t1%: -3.463\n",
      "\t5%: -2.876\n",
      "\t10%: -2.575\n"
     ]
    }
   ],
   "source": [
    "# Stationarity Test\n",
    "result = adfuller(y)\n",
    "print('ADF Statistic: %f' % result[0])\n",
    "print('p-value: %f' % result[1])\n",
    "print('Critical Values:')\n",
    "for key, value in result[4].items():\n",
    "    print('\\t%s: %.3f' % (key, value))"
   ]
  },
  {
   "cell_type": "code",
   "execution_count": 14,
   "id": "252cda11",
   "metadata": {},
   "outputs": [
    {
     "data": {
      "image/png": "[encoded data removed]",
      "text/plain": [
       "<Figure size 432x288 with 1 Axes>"
      ]
     },
     "metadata": {
      "needs_background": "light"
     },
     "output_type": "display_data"
    }
   ],
   "source": [
    "# plot acf, pacf\n",
    "plot_acf(y, lags=4, alpha=0.05)\n",
    "plt.show()"
   ]
  },
  {
   "cell_type": "code",
   "execution_count": 15,
   "id": "7bb77479",
   "metadata": {},
   "outputs": [
    {
     "data": {
      "image/png": "[encoded data removed]",
      "text/plain": [
       "<Figure size 432x288 with 1 Axes>"
      ]
     },
     "metadata": {
      "needs_background": "light"
     },
     "output_type": "display_data"
    }
   ],
   "source": [
    "plot_pacf(y, lags=12, method='ols')\n",
    "plt.show()"
   ]
  },
  {
   "cell_type": "code",
   "execution_count": 16,
   "id": "0b47ff28",
   "metadata": {},
   "outputs": [],
   "source": [
    "# train, test split\n",
    "train = y[0:-12]\n",
    "test = y[-12:]"
   ]
  },
  {
   "cell_type": "code",
   "execution_count": 17,
   "id": "2b9aea88",
   "metadata": {},
   "outputs": [
    {
     "name": "stdout",
     "output_type": "stream",
     "text": [
      "Performing stepwise search to minimize aic\n",
      " ARIMA(0,1,0)(0,0,0)[4] intercept   : AIC=2103.941, Time=0.08 sec\n",
      " ARIMA(1,1,0)(1,0,0)[4] intercept   : AIC=2055.165, Time=0.17 sec\n",
      " ARIMA(0,1,1)(0,0,1)[4] intercept   : AIC=2035.777, Time=0.22 sec\n",
      " ARIMA(0,1,0)(0,0,0)[4]             : AIC=2101.946, Time=0.02 sec\n",
      " ARIMA(0,1,1)(0,0,0)[4] intercept   : AIC=2033.895, Time=0.13 sec\n",
      " ARIMA(0,1,1)(1,0,0)[4] intercept   : AIC=2035.821, Time=0.23 sec\n",
      " ARIMA(0,1,1)(1,0,1)[4] intercept   : AIC=2035.366, Time=0.40 sec\n",
      " ARIMA(1,1,1)(0,0,0)[4] intercept   : AIC=inf, Time=0.24 sec\n",
      " ARIMA(0,1,2)(0,0,0)[4] intercept   : AIC=inf, Time=0.26 sec\n",
      " ARIMA(1,1,0)(0,0,0)[4] intercept   : AIC=2053.295, Time=0.13 sec\n",
      " ARIMA(1,1,2)(0,0,0)[4] intercept   : AIC=2037.252, Time=0.34 sec\n",
      " ARIMA(0,1,1)(0,0,0)[4]             : AIC=2031.966, Time=0.07 sec\n",
      " ARIMA(0,1,1)(1,0,0)[4]             : AIC=2033.891, Time=0.15 sec\n",
      " ARIMA(0,1,1)(0,0,1)[4]             : AIC=2033.847, Time=0.11 sec\n",
      " ARIMA(0,1,1)(1,0,1)[4]             : AIC=2033.524, Time=0.28 sec\n",
      " ARIMA(1,1,1)(0,0,0)[4]             : AIC=2026.426, Time=0.16 sec\n",
      " ARIMA(1,1,1)(1,0,0)[4]             : AIC=2025.661, Time=0.25 sec\n",
      " ARIMA(1,1,1)(2,0,0)[4]             : AIC=2022.486, Time=0.52 sec\n",
      " ARIMA(1,1,1)(2,0,1)[4]             : AIC=2022.665, Time=0.49 sec\n",
      " ARIMA(1,1,1)(1,0,1)[4]             : AIC=2030.426, Time=0.35 sec\n",
      " ARIMA(0,1,1)(2,0,0)[4]             : AIC=2029.455, Time=0.25 sec\n",
      " ARIMA(1,1,0)(2,0,0)[4]             : AIC=2048.119, Time=0.13 sec\n",
      " ARIMA(2,1,1)(2,0,0)[4]             : AIC=2018.464, Time=0.46 sec\n",
      " ARIMA(2,1,1)(1,0,0)[4]             : AIC=2021.877, Time=0.39 sec\n",
      " ARIMA(2,1,1)(2,0,1)[4]             : AIC=2018.342, Time=0.71 sec\n",
      " ARIMA(2,1,1)(1,0,1)[4]             : AIC=2024.700, Time=0.71 sec\n",
      " ARIMA(2,1,1)(2,0,2)[4]             : AIC=2017.070, Time=1.28 sec\n",
      " ARIMA(2,1,1)(1,0,2)[4]             : AIC=2020.907, Time=0.80 sec\n",
      " ARIMA(1,1,1)(2,0,2)[4]             : AIC=2021.451, Time=0.84 sec\n",
      " ARIMA(2,1,0)(2,0,2)[4]             : AIC=2043.248, Time=0.93 sec\n",
      " ARIMA(2,1,2)(2,0,2)[4]             : AIC=2016.618, Time=1.61 sec\n",
      " ARIMA(2,1,2)(1,0,2)[4]             : AIC=2021.169, Time=0.99 sec\n",
      " ARIMA(2,1,2)(2,0,1)[4]             : AIC=2017.954, Time=1.05 sec\n",
      " ARIMA(2,1,2)(1,0,1)[4]             : AIC=2024.738, Time=0.65 sec\n",
      " ARIMA(1,1,2)(2,0,2)[4]             : AIC=2024.105, Time=1.01 sec\n",
      " ARIMA(2,1,2)(2,0,2)[4] intercept   : AIC=inf, Time=1.86 sec\n",
      "\n",
      "Best model:  ARIMA(2,1,2)(2,0,2)[4]          \n",
      "Total fit time: 18.314 seconds\n"
     ]
    }
   ],
   "source": [
    "# grid search and find best parameters\n",
    "stepwise_fit = auto_arima(train, start_p = 0, \n",
    "                          start_q = 0,\tmax_p = 2, max_q = 2, \n",
    "                          m = 4, start_P = 0, max_P = 2,seasonal = True,\n",
    "                          start_Q = 0, max_Q = 2,d = 1, D = 0, trace = True, \n",
    "                          error_action ='ignore', \n",
    "                          # we don't want to know if an order does not work \n",
    "                          suppress_warnings = True, \n",
    "                          # we don't want convergence warnings\n",
    "                          information_criterion='aic',\n",
    "                          stepwise = True)# set to stepwise "
   ]
  },
  {
   "cell_type": "code",
   "execution_count": 18,
   "id": "c8b7a7d2",
   "metadata": {},
   "outputs": [
    {
     "data": {
      "text/html": [
       "<table class=\"simpletable\">\n",
       "<caption>SARIMAX Results</caption>\n",
       "<tr>\n",
       "  <th>Dep. Variable:</th>                 <td>y</td>               <th>  No. Observations:  </th>    <td>190</td>  \n",
       "</tr>\n",
       "<tr>\n",
       "  <th>Model:</th>           <td>SARIMAX(2, 1, 2)x(2, 0, 2, 4)</td> <th>  Log Likelihood     </th> <td>-999.309</td>\n",
       "</tr>\n",
       "<tr>\n",
       "  <th>Date:</th>                  <td>Wed, 16 Feb 2022</td>        <th>  AIC                </th> <td>2016.618</td>\n",
       "</tr>\n",
       "<tr>\n",
       "  <th>Time:</th>                      <td>18:29:05</td>            <th>  BIC                </th> <td>2045.793</td>\n",
       "</tr>\n",
       "<tr>\n",
       "  <th>Sample:</th>                        <td>0</td>               <th>  HQIC               </th> <td>2028.437</td>\n",
       "</tr>\n",
       "<tr>\n",
       "  <th></th>                            <td> - 190</td>             <th>                     </th>     <td> </td>   \n",
       "</tr>\n",
       "<tr>\n",
       "  <th>Covariance Type:</th>              <td>opg</td>              <th>                     </th>     <td> </td>   \n",
       "</tr>\n",
       "</table>\n",
       "<table class=\"simpletable\">\n",
       "<tr>\n",
       "     <td></td>        <th>coef</th>     <th>std err</th>      <th>z</th>      <th>P>|z|</th>  <th>[0.025</th>    <th>0.975]</th>  \n",
       "</tr>\n",
       "<tr>\n",
       "  <th>ar.L1</th>   <td>   -0.4756</td> <td>    0.178</td> <td>   -2.667</td> <td> 0.008</td> <td>   -0.825</td> <td>   -0.126</td>\n",
       "</tr>\n",
       "<tr>\n",
       "  <th>ar.L2</th>   <td>    0.3374</td> <td>    0.078</td> <td>    4.309</td> <td> 0.000</td> <td>    0.184</td> <td>    0.491</td>\n",
       "</tr>\n",
       "<tr>\n",
       "  <th>ma.L1</th>   <td>   -0.2454</td> <td>    0.184</td> <td>   -1.336</td> <td> 0.182</td> <td>   -0.605</td> <td>    0.115</td>\n",
       "</tr>\n",
       "<tr>\n",
       "  <th>ma.L2</th>   <td>   -0.6675</td> <td>    0.160</td> <td>   -4.161</td> <td> 0.000</td> <td>   -0.982</td> <td>   -0.353</td>\n",
       "</tr>\n",
       "<tr>\n",
       "  <th>ar.S.L4</th> <td>    0.6696</td> <td>    0.269</td> <td>    2.492</td> <td> 0.013</td> <td>    0.143</td> <td>    1.196</td>\n",
       "</tr>\n",
       "<tr>\n",
       "  <th>ar.S.L8</th> <td>   -0.5994</td> <td>    0.222</td> <td>   -2.698</td> <td> 0.007</td> <td>   -1.035</td> <td>   -0.164</td>\n",
       "</tr>\n",
       "<tr>\n",
       "  <th>ma.S.L4</th> <td>   -0.6874</td> <td>    0.306</td> <td>   -2.249</td> <td> 0.025</td> <td>   -1.286</td> <td>   -0.088</td>\n",
       "</tr>\n",
       "<tr>\n",
       "  <th>ma.S.L8</th> <td>    0.3886</td> <td>    0.261</td> <td>    1.489</td> <td> 0.136</td> <td>   -0.123</td> <td>    0.900</td>\n",
       "</tr>\n",
       "<tr>\n",
       "  <th>sigma2</th>  <td> 2256.1902</td> <td>  201.755</td> <td>   11.183</td> <td> 0.000</td> <td> 1860.757</td> <td> 2651.623</td>\n",
       "</tr>\n",
       "</table>\n",
       "<table class=\"simpletable\">\n",
       "<tr>\n",
       "  <th>Ljung-Box (L1) (Q):</th>     <td>0.11</td> <th>  Jarque-Bera (JB):  </th> <td>8.83</td>\n",
       "</tr>\n",
       "<tr>\n",
       "  <th>Prob(Q):</th>                <td>0.74</td> <th>  Prob(JB):          </th> <td>0.01</td>\n",
       "</tr>\n",
       "<tr>\n",
       "  <th>Heteroskedasticity (H):</th> <td>1.63</td> <th>  Skew:              </th> <td>0.22</td>\n",
       "</tr>\n",
       "<tr>\n",
       "  <th>Prob(H) (two-sided):</th>    <td>0.06</td> <th>  Kurtosis:          </th> <td>3.96</td>\n",
       "</tr>\n",
       "</table><br/><br/>Warnings:<br/>[1] Covariance matrix calculated using the outer product of gradients (complex-step)."
      ],
      "text/plain": [
       "<class 'statsmodels.iolib.summary.Summary'>\n",
       "\"\"\"\n",
       "                                     SARIMAX Results                                     \n",
       "=========================================================================================\n",
       "Dep. Variable:                                 y   No. Observations:                  190\n",
       "Model:             SARIMAX(2, 1, 2)x(2, 0, 2, 4)   Log Likelihood                -999.309\n",
       "Date:                           Wed, 16 Feb 2022   AIC                           2016.618\n",
       "Time:                                   18:29:05   BIC                           2045.793\n",
       "Sample:                                        0   HQIC                          2028.437\n",
       "                                           - 190                                         \n",
       "Covariance Type:                             opg                                         \n",
       "==============================================================================\n",
       "                 coef    std err          z      P>|z|      [0.025      0.975]\n",
       "------------------------------------------------------------------------------\n",
       "ar.L1         -0.4756      0.178     -2.667      0.008      -0.825      -0.126\n",
       "ar.L2          0.3374      0.078      4.309      0.000       0.184       0.491\n",
       "ma.L1         -0.2454      0.184     -1.336      0.182      -0.605       0.115\n",
       "ma.L2         -0.6675      0.160     -4.161      0.000      -0.982      -0.353\n",
       "ar.S.L4        0.6696      0.269      2.492      0.013       0.143       1.196\n",
       "ar.S.L8       -0.5994      0.222     -2.698      0.007      -1.035      -0.164\n",
       "ma.S.L4       -0.6874      0.306     -2.249      0.025      -1.286      -0.088\n",
       "ma.S.L8        0.3886      0.261      1.489      0.136      -0.123       0.900\n",
       "sigma2      2256.1902    201.755     11.183      0.000    1860.757    2651.623\n",
       "===================================================================================\n",
       "Ljung-Box (L1) (Q):                   0.11   Jarque-Bera (JB):                 8.83\n",
       "Prob(Q):                              0.74   Prob(JB):                         0.01\n",
       "Heteroskedasticity (H):               1.63   Skew:                             0.22\n",
       "Prob(H) (two-sided):                  0.06   Kurtosis:                         3.96\n",
       "===================================================================================\n",
       "\n",
       "Warnings:\n",
       "[1] Covariance matrix calculated using the outer product of gradients (complex-step).\n",
       "\"\"\""
      ]
     },
     "execution_count": 18,
     "metadata": {},
     "output_type": "execute_result"
    }
   ],
   "source": [
    "# To print the summary \n",
    "stepwise_fit.summary() "
   ]
  },
  {
   "cell_type": "code",
   "execution_count": 19,
   "id": "566546a2",
   "metadata": {},
   "outputs": [
    {
     "data": {
      "text/html": [
       "<table class=\"simpletable\">\n",
       "<caption>SARIMAX Results</caption>\n",
       "<tr>\n",
       "  <th>Dep. Variable:</th>                <td>y</td>              <th>  No. Observations:  </th>    <td>190</td>  \n",
       "</tr>\n",
       "<tr>\n",
       "  <th>Model:</th>           <td>ARIMA(2, 1, 2)x(2, 0, 2, 4)</td> <th>  Log Likelihood     </th> <td>-999.309</td>\n",
       "</tr>\n",
       "<tr>\n",
       "  <th>Date:</th>                 <td>Wed, 16 Feb 2022</td>       <th>  AIC                </th> <td>2016.618</td>\n",
       "</tr>\n",
       "<tr>\n",
       "  <th>Time:</th>                     <td>18:29:10</td>           <th>  BIC                </th> <td>2045.793</td>\n",
       "</tr>\n",
       "<tr>\n",
       "  <th>Sample:</th>                       <td>0</td>              <th>  HQIC               </th> <td>2028.437</td>\n",
       "</tr>\n",
       "<tr>\n",
       "  <th></th>                           <td> - 190</td>            <th>                     </th>     <td> </td>   \n",
       "</tr>\n",
       "<tr>\n",
       "  <th>Covariance Type:</th>             <td>opg</td>             <th>                     </th>     <td> </td>   \n",
       "</tr>\n",
       "</table>\n",
       "<table class=\"simpletable\">\n",
       "<tr>\n",
       "     <td></td>        <th>coef</th>     <th>std err</th>      <th>z</th>      <th>P>|z|</th>  <th>[0.025</th>    <th>0.975]</th>  \n",
       "</tr>\n",
       "<tr>\n",
       "  <th>ar.L1</th>   <td>   -0.4756</td> <td>    0.178</td> <td>   -2.667</td> <td> 0.008</td> <td>   -0.825</td> <td>   -0.126</td>\n",
       "</tr>\n",
       "<tr>\n",
       "  <th>ar.L2</th>   <td>    0.3374</td> <td>    0.078</td> <td>    4.309</td> <td> 0.000</td> <td>    0.184</td> <td>    0.491</td>\n",
       "</tr>\n",
       "<tr>\n",
       "  <th>ma.L1</th>   <td>   -0.2454</td> <td>    0.184</td> <td>   -1.336</td> <td> 0.182</td> <td>   -0.605</td> <td>    0.115</td>\n",
       "</tr>\n",
       "<tr>\n",
       "  <th>ma.L2</th>   <td>   -0.6675</td> <td>    0.160</td> <td>   -4.161</td> <td> 0.000</td> <td>   -0.982</td> <td>   -0.353</td>\n",
       "</tr>\n",
       "<tr>\n",
       "  <th>ar.S.L4</th> <td>    0.6696</td> <td>    0.269</td> <td>    2.492</td> <td> 0.013</td> <td>    0.143</td> <td>    1.196</td>\n",
       "</tr>\n",
       "<tr>\n",
       "  <th>ar.S.L8</th> <td>   -0.5994</td> <td>    0.222</td> <td>   -2.698</td> <td> 0.007</td> <td>   -1.035</td> <td>   -0.164</td>\n",
       "</tr>\n",
       "<tr>\n",
       "  <th>ma.S.L4</th> <td>   -0.6874</td> <td>    0.306</td> <td>   -2.249</td> <td> 0.025</td> <td>   -1.286</td> <td>   -0.088</td>\n",
       "</tr>\n",
       "<tr>\n",
       "  <th>ma.S.L8</th> <td>    0.3886</td> <td>    0.261</td> <td>    1.489</td> <td> 0.136</td> <td>   -0.123</td> <td>    0.900</td>\n",
       "</tr>\n",
       "<tr>\n",
       "  <th>sigma2</th>  <td> 2256.1902</td> <td>  201.755</td> <td>   11.183</td> <td> 0.000</td> <td> 1860.757</td> <td> 2651.623</td>\n",
       "</tr>\n",
       "</table>\n",
       "<table class=\"simpletable\">\n",
       "<tr>\n",
       "  <th>Ljung-Box (L1) (Q):</th>     <td>0.11</td> <th>  Jarque-Bera (JB):  </th> <td>8.83</td>\n",
       "</tr>\n",
       "<tr>\n",
       "  <th>Prob(Q):</th>                <td>0.74</td> <th>  Prob(JB):          </th> <td>0.01</td>\n",
       "</tr>\n",
       "<tr>\n",
       "  <th>Heteroskedasticity (H):</th> <td>1.63</td> <th>  Skew:              </th> <td>0.22</td>\n",
       "</tr>\n",
       "<tr>\n",
       "  <th>Prob(H) (two-sided):</th>    <td>0.06</td> <th>  Kurtosis:          </th> <td>3.96</td>\n",
       "</tr>\n",
       "</table><br/><br/>Warnings:<br/>[1] Covariance matrix calculated using the outer product of gradients (complex-step)."
      ],
      "text/plain": [
       "<class 'statsmodels.iolib.summary.Summary'>\n",
       "\"\"\"\n",
       "                                    SARIMAX Results                                    \n",
       "=======================================================================================\n",
       "Dep. Variable:                               y   No. Observations:                  190\n",
       "Model:             ARIMA(2, 1, 2)x(2, 0, 2, 4)   Log Likelihood                -999.309\n",
       "Date:                         Wed, 16 Feb 2022   AIC                           2016.618\n",
       "Time:                                 18:29:10   BIC                           2045.793\n",
       "Sample:                                      0   HQIC                          2028.437\n",
       "                                         - 190                                         \n",
       "Covariance Type:                           opg                                         \n",
       "==============================================================================\n",
       "                 coef    std err          z      P>|z|      [0.025      0.975]\n",
       "------------------------------------------------------------------------------\n",
       "ar.L1         -0.4756      0.178     -2.667      0.008      -0.825      -0.126\n",
       "ar.L2          0.3374      0.078      4.309      0.000       0.184       0.491\n",
       "ma.L1         -0.2454      0.184     -1.336      0.182      -0.605       0.115\n",
       "ma.L2         -0.6675      0.160     -4.161      0.000      -0.982      -0.353\n",
       "ar.S.L4        0.6696      0.269      2.492      0.013       0.143       1.196\n",
       "ar.S.L8       -0.5994      0.222     -2.698      0.007      -1.035      -0.164\n",
       "ma.S.L4       -0.6874      0.306     -2.249      0.025      -1.286      -0.088\n",
       "ma.S.L8        0.3886      0.261      1.489      0.136      -0.123       0.900\n",
       "sigma2      2256.1902    201.755     11.183      0.000    1860.757    2651.623\n",
       "===================================================================================\n",
       "Ljung-Box (L1) (Q):                   0.11   Jarque-Bera (JB):                 8.83\n",
       "Prob(Q):                              0.74   Prob(JB):                         0.01\n",
       "Heteroskedasticity (H):               1.63   Skew:                             0.22\n",
       "Prob(H) (two-sided):                  0.06   Kurtosis:                         3.96\n",
       "===================================================================================\n",
       "\n",
       "Warnings:\n",
       "[1] Covariance matrix calculated using the outer product of gradients (complex-step).\n",
       "\"\"\""
      ]
     },
     "execution_count": 19,
     "metadata": {},
     "output_type": "execute_result"
    }
   ],
   "source": [
    "# use the efficient fit\n",
    "model = arima.model.ARIMA(train, order=(2,1,2), seasonal_order=(2,0,2,4))\n",
    "model_fitted = model.fit()\n",
    "model_fitted.params\n",
    "model_fitted.summary()"
   ]
  },
  {
   "cell_type": "code",
   "execution_count": 20,
   "id": "94f75130",
   "metadata": {},
   "outputs": [
    {
     "data": {
      "text/plain": [
       "[<matplotlib.lines.Line2D at 0x268bd5d5dc0>]"
      ]
     },
     "execution_count": 20,
     "metadata": {},
     "output_type": "execute_result"
    },
    {
     "data": {
      "image/png": "[encoded data removed]",
      "text/plain": [
       "<Figure size 432x288 with 1 Axes>"
      ]
     },
     "metadata": {
      "needs_background": "light"
     },
     "output_type": "display_data"
    }
   ],
   "source": [
    "# plot train, test, in sample fitted values and out of sample forecast\n",
    "plt.plot(train, color=\"g\")\n",
    "plt.plot(model_fitted.fittedvalues, color=\"b\")"
   ]
  },
  {
   "cell_type": "code",
   "execution_count": 21,
   "id": "b40f3bfe",
   "metadata": {},
   "outputs": [
    {
     "data": {
      "image/png": "[encoded data removed]",
      "text/plain": [
       "<Figure size 432x288 with 1 Axes>"
      ]
     },
     "metadata": {
      "needs_background": "light"
     },
     "output_type": "display_data"
    }
   ],
   "source": [
    "plt.plot(test, label = 'actual', color = 'y')\n",
    "plt.plot(model_fitted.forecast(steps=len(test)), label = 'predicted', color=\"r\")\n",
    "plt.legend()\n",
    "plt.show()"
   ]
  },
  {
   "cell_type": "code",
   "execution_count": 22,
   "id": "aa8e62cf",
   "metadata": {},
   "outputs": [],
   "source": [
    "forecast = pd.DataFrame(model_fitted.forecast(steps=len(test)),\n",
    "                        index = df.index[-12:],columns=['realgdp_Predicted_Differenced_1'])"
   ]
  },
  {
   "cell_type": "code",
   "execution_count": 23,
   "id": "40cc904c",
   "metadata": {},
   "outputs": [],
   "source": [
    "#Transforming to Original Forecast\n",
    "forecast[\"realgdp_Predicted\"] = arima_df[\"realgdp\"].iloc[-12-1] + forecast['realgdp_Predicted_Differenced_1'].cumsum()"
   ]
  },
  {
   "cell_type": "code",
   "execution_count": 24,
   "id": "84e576f5",
   "metadata": {},
   "outputs": [],
   "source": [
    "forecast['realgdp_actual'] = arima_df.realgdp.iloc[-12:]"
   ]
  },
  {
   "cell_type": "code",
   "execution_count": 25,
   "id": "445826cd",
   "metadata": {},
   "outputs": [
    {
     "data": {
      "text/html": [
       "<div>\n",
       "<style scoped>\n",
       "    .dataframe tbody tr th:only-of-type {\n",
       "        vertical-align: middle;\n",
       "    }\n",
       "\n",
       "    .dataframe tbody tr th {\n",
       "        vertical-align: top;\n",
       "    }\n",
       "\n",
       "    .dataframe thead th {\n",
       "        text-align: right;\n",
       "    }\n",
       "</style>\n",
       "<table border=\"1\" class=\"dataframe\">\n",
       "  <thead>\n",
       "    <tr style=\"text-align: right;\">\n",
       "      <th></th>\n",
       "      <th>realgdp_Predicted_Differenced_1</th>\n",
       "      <th>realgdp_Predicted</th>\n",
       "      <th>realgdp_actual</th>\n",
       "    </tr>\n",
       "    <tr>\n",
       "      <th>year</th>\n",
       "      <th></th>\n",
       "      <th></th>\n",
       "      <th></th>\n",
       "    </tr>\n",
       "  </thead>\n",
       "  <tbody>\n",
       "    <tr>\n",
       "      <th>2006.0</th>\n",
       "      <td>31.162479</td>\n",
       "      <td>12997.078479</td>\n",
       "      <td>13060.679</td>\n",
       "    </tr>\n",
       "    <tr>\n",
       "      <th>2007.0</th>\n",
       "      <td>61.814515</td>\n",
       "      <td>13058.892994</td>\n",
       "      <td>13099.901</td>\n",
       "    </tr>\n",
       "    <tr>\n",
       "      <th>2007.0</th>\n",
       "      <td>69.625718</td>\n",
       "      <td>13128.518712</td>\n",
       "      <td>13203.977</td>\n",
       "    </tr>\n",
       "    <tr>\n",
       "      <th>2007.0</th>\n",
       "      <td>70.667131</td>\n",
       "      <td>13199.185843</td>\n",
       "      <td>13321.109</td>\n",
       "    </tr>\n",
       "    <tr>\n",
       "      <th>2007.0</th>\n",
       "      <td>62.186461</td>\n",
       "      <td>13261.372304</td>\n",
       "      <td>13391.249</td>\n",
       "    </tr>\n",
       "    <tr>\n",
       "      <th>2008.0</th>\n",
       "      <td>54.935958</td>\n",
       "      <td>13316.308262</td>\n",
       "      <td>13366.865</td>\n",
       "    </tr>\n",
       "    <tr>\n",
       "      <th>2008.0</th>\n",
       "      <td>81.947321</td>\n",
       "      <td>13398.255582</td>\n",
       "      <td>13415.266</td>\n",
       "    </tr>\n",
       "    <tr>\n",
       "      <th>2008.0</th>\n",
       "      <td>99.584346</td>\n",
       "      <td>13497.839928</td>\n",
       "      <td>13324.600</td>\n",
       "    </tr>\n",
       "    <tr>\n",
       "      <th>2008.0</th>\n",
       "      <td>82.784605</td>\n",
       "      <td>13580.624533</td>\n",
       "      <td>13141.920</td>\n",
       "    </tr>\n",
       "    <tr>\n",
       "      <th>2009.0</th>\n",
       "      <td>71.645190</td>\n",
       "      <td>13652.269723</td>\n",
       "      <td>12925.410</td>\n",
       "    </tr>\n",
       "    <tr>\n",
       "      <th>2009.0</th>\n",
       "      <td>81.150700</td>\n",
       "      <td>13733.420423</td>\n",
       "      <td>12901.504</td>\n",
       "    </tr>\n",
       "    <tr>\n",
       "      <th>2009.0</th>\n",
       "      <td>98.267689</td>\n",
       "      <td>13831.688112</td>\n",
       "      <td>12990.341</td>\n",
       "    </tr>\n",
       "  </tbody>\n",
       "</table>\n",
       "</div>"
      ],
      "text/plain": [
       "        realgdp_Predicted_Differenced_1  realgdp_Predicted  realgdp_actual\n",
       "year                                                                      \n",
       "2006.0                        31.162479       12997.078479       13060.679\n",
       "2007.0                        61.814515       13058.892994       13099.901\n",
       "2007.0                        69.625718       13128.518712       13203.977\n",
       "2007.0                        70.667131       13199.185843       13321.109\n",
       "2007.0                        62.186461       13261.372304       13391.249\n",
       "2008.0                        54.935958       13316.308262       13366.865\n",
       "2008.0                        81.947321       13398.255582       13415.266\n",
       "2008.0                        99.584346       13497.839928       13324.600\n",
       "2008.0                        82.784605       13580.624533       13141.920\n",
       "2009.0                        71.645190       13652.269723       12925.410\n",
       "2009.0                        81.150700       13733.420423       12901.504\n",
       "2009.0                        98.267689       13831.688112       12990.341"
      ]
     },
     "execution_count": 25,
     "metadata": {},
     "output_type": "execute_result"
    }
   ],
   "source": [
    "forecast"
   ]
  },
  {
   "cell_type": "code",
   "execution_count": 26,
   "id": "8fb68eb3",
   "metadata": {
    "scrolled": true
   },
   "outputs": [
    {
     "data": {
      "text/plain": [
       "427.8578307970079"
      ]
     },
     "execution_count": 26,
     "metadata": {},
     "output_type": "execute_result"
    }
   ],
   "source": [
    "#rmse\n",
    "mean_squared_error(forecast['realgdp_actual'],forecast['realgdp_Predicted'],squared=False)"
   ]
  },
  {
   "cell_type": "code",
   "execution_count": null,
   "id": "a0b91eb7",
   "metadata": {},
   "outputs": [],
   "source": []
  },
  {
   "cell_type": "markdown",
   "id": "82e63877",
   "metadata": {},
   "source": [
    "**realdpi**"
   ]
  },
  {
   "cell_type": "code",
   "execution_count": 27,
   "id": "da5e73ba",
   "metadata": {},
   "outputs": [],
   "source": [
    "y = arima_df['realdpi']"
   ]
  },
  {
   "cell_type": "code",
   "execution_count": 28,
   "id": "64aee87c",
   "metadata": {},
   "outputs": [
    {
     "name": "stdout",
     "output_type": "stream",
     "text": [
      "ADF Statistic: 2.986025\n",
      "p-value: 1.000000\n",
      "Critical Values:\n",
      "\t1%: -3.463\n",
      "\t5%: -2.876\n",
      "\t10%: -2.575\n"
     ]
    }
   ],
   "source": [
    "# Stationarity Test\n",
    "result = adfuller(y)\n",
    "print('ADF Statistic: %f' % result[0])\n",
    "print('p-value: %f' % result[1])\n",
    "print('Critical Values:')\n",
    "for key, value in result[4].items():\n",
    "    print('\\t%s: %.3f' % (key, value))"
   ]
  },
  {
   "cell_type": "code",
   "execution_count": 29,
   "id": "57b40cd0",
   "metadata": {},
   "outputs": [],
   "source": [
    "# difference once\n",
    "arima_df[\"Diff_realdpi\"] = arima_df[\"realdpi\"].diff()\n",
    "diff_values = arima_df[\"Diff_realdpi\"].values\n",
    "y_diff = diff_values[~np.isnan(diff_values)]\n",
    "y = y_diff"
   ]
  },
  {
   "cell_type": "code",
   "execution_count": 30,
   "id": "117b3653",
   "metadata": {},
   "outputs": [
    {
     "name": "stdout",
     "output_type": "stream",
     "text": [
      "ADF Statistic: -8.864893\n",
      "p-value: 0.000000\n",
      "Critical Values:\n",
      "\t1%: -3.463\n",
      "\t5%: -2.876\n",
      "\t10%: -2.575\n"
     ]
    }
   ],
   "source": [
    "# Stationarity Test\n",
    "result = adfuller(y)\n",
    "print('ADF Statistic: %f' % result[0])\n",
    "print('p-value: %f' % result[1])\n",
    "print('Critical Values:')\n",
    "for key, value in result[4].items():\n",
    "    print('\\t%s: %.3f' % (key, value))"
   ]
  },
  {
   "cell_type": "code",
   "execution_count": 31,
   "id": "0036023f",
   "metadata": {},
   "outputs": [
    {
     "data": {
      "image/png": "[encoded data removed]",
      "text/plain": [
       "<Figure size 432x288 with 1 Axes>"
      ]
     },
     "metadata": {
      "needs_background": "light"
     },
     "output_type": "display_data"
    }
   ],
   "source": [
    "# plot acf, pacf\n",
    "plot_acf(y, lags=4, alpha=0.05)\n",
    "plt.show()"
   ]
  },
  {
   "cell_type": "code",
   "execution_count": 32,
   "id": "4ec1073b",
   "metadata": {},
   "outputs": [
    {
     "data": {
      "image/png": "[encoded data removed]",
      "text/plain": [
       "<Figure size 432x288 with 1 Axes>"
      ]
     },
     "metadata": {
      "needs_background": "light"
     },
     "output_type": "display_data"
    }
   ],
   "source": [
    "plot_pacf(y, lags=12, method='ols')\n",
    "plt.show()"
   ]
  },
  {
   "cell_type": "code",
   "execution_count": 33,
   "id": "145940fa",
   "metadata": {},
   "outputs": [],
   "source": [
    "# train, test split\n",
    "train = y[0:-12]\n",
    "test = y[-12:]"
   ]
  },
  {
   "cell_type": "code",
   "execution_count": 34,
   "id": "dfb86841",
   "metadata": {},
   "outputs": [
    {
     "name": "stdout",
     "output_type": "stream",
     "text": [
      "Performing stepwise search to minimize aic\n",
      " ARIMA(0,1,0)(0,0,0)[4] intercept   : AIC=2144.707, Time=0.02 sec\n",
      " ARIMA(1,1,0)(1,0,0)[4] intercept   : AIC=2050.526, Time=0.22 sec\n",
      " ARIMA(0,1,1)(0,0,1)[4] intercept   : AIC=inf, Time=0.43 sec\n",
      " ARIMA(0,1,0)(0,0,0)[4]             : AIC=2142.707, Time=0.01 sec\n",
      " ARIMA(1,1,0)(0,0,0)[4] intercept   : AIC=2052.147, Time=0.08 sec\n",
      " ARIMA(1,1,0)(2,0,0)[4] intercept   : AIC=2052.194, Time=0.27 sec\n",
      " ARIMA(1,1,0)(1,0,1)[4] intercept   : AIC=2045.888, Time=0.45 sec\n",
      " ARIMA(1,1,0)(0,0,1)[4] intercept   : AIC=2050.025, Time=0.22 sec\n",
      " ARIMA(1,1,0)(2,0,1)[4] intercept   : AIC=2047.850, Time=0.61 sec\n",
      " ARIMA(1,1,0)(1,0,2)[4] intercept   : AIC=2047.861, Time=0.74 sec\n",
      " ARIMA(1,1,0)(0,0,2)[4] intercept   : AIC=2050.720, Time=0.28 sec\n",
      " ARIMA(1,1,0)(2,0,2)[4] intercept   : AIC=2043.522, Time=0.81 sec\n",
      " ARIMA(0,1,0)(2,0,2)[4] intercept   : AIC=inf, Time=1.24 sec\n",
      " ARIMA(2,1,0)(2,0,2)[4] intercept   : AIC=inf, Time=1.70 sec\n",
      " ARIMA(1,1,1)(2,0,2)[4] intercept   : AIC=inf, Time=1.46 sec\n",
      " ARIMA(0,1,1)(2,0,2)[4] intercept   : AIC=inf, Time=1.35 sec\n",
      " ARIMA(2,1,1)(2,0,2)[4] intercept   : AIC=inf, Time=1.53 sec\n",
      " ARIMA(1,1,0)(2,0,2)[4]             : AIC=2041.585, Time=0.63 sec\n",
      " ARIMA(1,1,0)(1,0,2)[4]             : AIC=2045.909, Time=0.61 sec\n",
      " ARIMA(1,1,0)(2,0,1)[4]             : AIC=2045.899, Time=0.52 sec\n",
      " ARIMA(1,1,0)(1,0,1)[4]             : AIC=2043.934, Time=0.27 sec\n",
      " ARIMA(0,1,0)(2,0,2)[4]             : AIC=inf, Time=0.61 sec\n",
      " ARIMA(2,1,0)(2,0,2)[4]             : AIC=inf, Time=1.08 sec\n",
      " ARIMA(1,1,1)(2,0,2)[4]             : AIC=1984.308, Time=0.99 sec\n",
      " ARIMA(1,1,1)(1,0,2)[4]             : AIC=1992.012, Time=0.55 sec\n",
      " ARIMA(1,1,1)(2,0,1)[4]             : AIC=1991.942, Time=0.61 sec\n",
      " ARIMA(1,1,1)(1,0,1)[4]             : AIC=1990.177, Time=0.36 sec\n",
      " ARIMA(0,1,1)(2,0,2)[4]             : AIC=1993.520, Time=0.69 sec\n",
      " ARIMA(2,1,1)(2,0,2)[4]             : AIC=1985.191, Time=1.04 sec\n",
      " ARIMA(1,1,2)(2,0,2)[4]             : AIC=1983.662, Time=0.95 sec\n",
      " ARIMA(1,1,2)(1,0,2)[4]             : AIC=1990.039, Time=0.95 sec\n",
      " ARIMA(1,1,2)(2,0,1)[4]             : AIC=1989.899, Time=1.06 sec\n",
      " ARIMA(1,1,2)(1,0,1)[4]             : AIC=1988.361, Time=0.49 sec\n",
      " ARIMA(0,1,2)(2,0,2)[4]             : AIC=1986.297, Time=0.98 sec\n",
      " ARIMA(2,1,2)(2,0,2)[4]             : AIC=1985.165, Time=1.77 sec\n",
      " ARIMA(1,1,2)(2,0,2)[4] intercept   : AIC=inf, Time=1.43 sec\n",
      "\n",
      "Best model:  ARIMA(1,1,2)(2,0,2)[4]          \n",
      "Total fit time: 27.052 seconds\n"
     ]
    }
   ],
   "source": [
    "# grid search and find best parameters\n",
    "stepwise_fit = auto_arima(train, start_p = 0, \n",
    "                          start_q = 0,\tmax_p = 2, max_q = 2, \n",
    "                          m = 4, start_P = 0, max_P = 2,seasonal = True,\n",
    "                          start_Q = 0, max_Q = 2,d = 1, D = 0, trace = True, \n",
    "                          error_action ='ignore', \n",
    "                          # we don't want to know if an order does not work \n",
    "                          suppress_warnings = True, \n",
    "                          # we don't want convergence warnings\n",
    "                          information_criterion='aic',\n",
    "                          stepwise = True)# set to stepwise "
   ]
  },
  {
   "cell_type": "code",
   "execution_count": 35,
   "id": "6f6d9b7c",
   "metadata": {},
   "outputs": [
    {
     "data": {
      "text/html": [
       "<table class=\"simpletable\">\n",
       "<caption>SARIMAX Results</caption>\n",
       "<tr>\n",
       "  <th>Dep. Variable:</th>                 <td>y</td>               <th>  No. Observations:  </th>    <td>190</td>  \n",
       "</tr>\n",
       "<tr>\n",
       "  <th>Model:</th>           <td>SARIMAX(1, 1, 2)x(2, 0, 2, 4)</td> <th>  Log Likelihood     </th> <td>-983.831</td>\n",
       "</tr>\n",
       "<tr>\n",
       "  <th>Date:</th>                  <td>Wed, 16 Feb 2022</td>        <th>  AIC                </th> <td>1983.662</td>\n",
       "</tr>\n",
       "<tr>\n",
       "  <th>Time:</th>                      <td>18:29:49</td>            <th>  BIC                </th> <td>2009.596</td>\n",
       "</tr>\n",
       "<tr>\n",
       "  <th>Sample:</th>                        <td>0</td>               <th>  HQIC               </th> <td>1994.168</td>\n",
       "</tr>\n",
       "<tr>\n",
       "  <th></th>                            <td> - 190</td>             <th>                     </th>     <td> </td>   \n",
       "</tr>\n",
       "<tr>\n",
       "  <th>Covariance Type:</th>              <td>opg</td>              <th>                     </th>     <td> </td>   \n",
       "</tr>\n",
       "</table>\n",
       "<table class=\"simpletable\">\n",
       "<tr>\n",
       "     <td></td>        <th>coef</th>     <th>std err</th>      <th>z</th>      <th>P>|z|</th>  <th>[0.025</th>    <th>0.975]</th>  \n",
       "</tr>\n",
       "<tr>\n",
       "  <th>ar.L1</th>   <td>   -0.7666</td> <td>    0.142</td> <td>   -5.417</td> <td> 0.000</td> <td>   -1.044</td> <td>   -0.489</td>\n",
       "</tr>\n",
       "<tr>\n",
       "  <th>ma.L1</th>   <td>   -0.3268</td> <td>    0.176</td> <td>   -1.852</td> <td> 0.064</td> <td>   -0.673</td> <td>    0.019</td>\n",
       "</tr>\n",
       "<tr>\n",
       "  <th>ma.L2</th>   <td>   -0.5140</td> <td>    0.169</td> <td>   -3.046</td> <td> 0.002</td> <td>   -0.845</td> <td>   -0.183</td>\n",
       "</tr>\n",
       "<tr>\n",
       "  <th>ar.S.L4</th> <td>   -0.2435</td> <td>    0.209</td> <td>   -1.167</td> <td> 0.243</td> <td>   -0.652</td> <td>    0.165</td>\n",
       "</tr>\n",
       "<tr>\n",
       "  <th>ar.S.L8</th> <td>    0.6950</td> <td>    0.139</td> <td>    5.003</td> <td> 0.000</td> <td>    0.423</td> <td>    0.967</td>\n",
       "</tr>\n",
       "<tr>\n",
       "  <th>ma.S.L4</th> <td>    0.0236</td> <td>    0.212</td> <td>    0.111</td> <td> 0.911</td> <td>   -0.391</td> <td>    0.439</td>\n",
       "</tr>\n",
       "<tr>\n",
       "  <th>ma.S.L8</th> <td>   -0.7651</td> <td>    0.132</td> <td>   -5.783</td> <td> 0.000</td> <td>   -1.024</td> <td>   -0.506</td>\n",
       "</tr>\n",
       "<tr>\n",
       "  <th>sigma2</th>  <td> 1901.3350</td> <td>  180.239</td> <td>   10.549</td> <td> 0.000</td> <td> 1548.073</td> <td> 2254.597</td>\n",
       "</tr>\n",
       "</table>\n",
       "<table class=\"simpletable\">\n",
       "<tr>\n",
       "  <th>Ljung-Box (L1) (Q):</th>     <td>0.40</td> <th>  Jarque-Bera (JB):  </th> <td>21.08</td>\n",
       "</tr>\n",
       "<tr>\n",
       "  <th>Prob(Q):</th>                <td>0.53</td> <th>  Prob(JB):          </th> <td>0.00</td> \n",
       "</tr>\n",
       "<tr>\n",
       "  <th>Heteroskedasticity (H):</th> <td>3.63</td> <th>  Skew:              </th> <td>-0.22</td>\n",
       "</tr>\n",
       "<tr>\n",
       "  <th>Prob(H) (two-sided):</th>    <td>0.00</td> <th>  Kurtosis:          </th> <td>4.57</td> \n",
       "</tr>\n",
       "</table><br/><br/>Warnings:<br/>[1] Covariance matrix calculated using the outer product of gradients (complex-step)."
      ],
      "text/plain": [
       "<class 'statsmodels.iolib.summary.Summary'>\n",
       "\"\"\"\n",
       "                                     SARIMAX Results                                     \n",
       "=========================================================================================\n",
       "Dep. Variable:                                 y   No. Observations:                  190\n",
       "Model:             SARIMAX(1, 1, 2)x(2, 0, 2, 4)   Log Likelihood                -983.831\n",
       "Date:                           Wed, 16 Feb 2022   AIC                           1983.662\n",
       "Time:                                   18:29:49   BIC                           2009.596\n",
       "Sample:                                        0   HQIC                          1994.168\n",
       "                                           - 190                                         \n",
       "Covariance Type:                             opg                                         \n",
       "==============================================================================\n",
       "                 coef    std err          z      P>|z|      [0.025      0.975]\n",
       "------------------------------------------------------------------------------\n",
       "ar.L1         -0.7666      0.142     -5.417      0.000      -1.044      -0.489\n",
       "ma.L1         -0.3268      0.176     -1.852      0.064      -0.673       0.019\n",
       "ma.L2         -0.5140      0.169     -3.046      0.002      -0.845      -0.183\n",
       "ar.S.L4       -0.2435      0.209     -1.167      0.243      -0.652       0.165\n",
       "ar.S.L8        0.6950      0.139      5.003      0.000       0.423       0.967\n",
       "ma.S.L4        0.0236      0.212      0.111      0.911      -0.391       0.439\n",
       "ma.S.L8       -0.7651      0.132     -5.783      0.000      -1.024      -0.506\n",
       "sigma2      1901.3350    180.239     10.549      0.000    1548.073    2254.597\n",
       "===================================================================================\n",
       "Ljung-Box (L1) (Q):                   0.40   Jarque-Bera (JB):                21.08\n",
       "Prob(Q):                              0.53   Prob(JB):                         0.00\n",
       "Heteroskedasticity (H):               3.63   Skew:                            -0.22\n",
       "Prob(H) (two-sided):                  0.00   Kurtosis:                         4.57\n",
       "===================================================================================\n",
       "\n",
       "Warnings:\n",
       "[1] Covariance matrix calculated using the outer product of gradients (complex-step).\n",
       "\"\"\""
      ]
     },
     "execution_count": 35,
     "metadata": {},
     "output_type": "execute_result"
    }
   ],
   "source": [
    "# To print the summary \n",
    "stepwise_fit.summary() "
   ]
  },
  {
   "cell_type": "code",
   "execution_count": 36,
   "id": "a8bb778d",
   "metadata": {},
   "outputs": [
    {
     "data": {
      "text/html": [
       "<table class=\"simpletable\">\n",
       "<caption>SARIMAX Results</caption>\n",
       "<tr>\n",
       "  <th>Dep. Variable:</th>                   <td>y</td>                <th>  No. Observations:  </th>    <td>190</td>  \n",
       "</tr>\n",
       "<tr>\n",
       "  <th>Model:</th>           <td>ARIMA(1, 1, 1)x(2, 0, [1, 2], 4)</td> <th>  Log Likelihood     </th> <td>-985.154</td>\n",
       "</tr>\n",
       "<tr>\n",
       "  <th>Date:</th>                    <td>Wed, 16 Feb 2022</td>         <th>  AIC                </th> <td>1984.308</td>\n",
       "</tr>\n",
       "<tr>\n",
       "  <th>Time:</th>                        <td>18:29:55</td>             <th>  BIC                </th> <td>2007.000</td>\n",
       "</tr>\n",
       "<tr>\n",
       "  <th>Sample:</th>                          <td>0</td>                <th>  HQIC               </th> <td>1993.501</td>\n",
       "</tr>\n",
       "<tr>\n",
       "  <th></th>                              <td> - 190</td>              <th>                     </th>     <td> </td>   \n",
       "</tr>\n",
       "<tr>\n",
       "  <th>Covariance Type:</th>                <td>opg</td>               <th>                     </th>     <td> </td>   \n",
       "</tr>\n",
       "</table>\n",
       "<table class=\"simpletable\">\n",
       "<tr>\n",
       "     <td></td>        <th>coef</th>     <th>std err</th>      <th>z</th>      <th>P>|z|</th>  <th>[0.025</th>    <th>0.975]</th>  \n",
       "</tr>\n",
       "<tr>\n",
       "  <th>ar.L1</th>   <td>   -0.2674</td> <td>    0.060</td> <td>   -4.448</td> <td> 0.000</td> <td>   -0.385</td> <td>   -0.150</td>\n",
       "</tr>\n",
       "<tr>\n",
       "  <th>ma.L1</th>   <td>   -0.8802</td> <td>    0.043</td> <td>  -20.659</td> <td> 0.000</td> <td>   -0.964</td> <td>   -0.797</td>\n",
       "</tr>\n",
       "<tr>\n",
       "  <th>ar.S.L4</th> <td>   -0.1750</td> <td>    0.167</td> <td>   -1.050</td> <td> 0.294</td> <td>   -0.502</td> <td>    0.152</td>\n",
       "</tr>\n",
       "<tr>\n",
       "  <th>ar.S.L8</th> <td>    0.7675</td> <td>    0.116</td> <td>    6.598</td> <td> 0.000</td> <td>    0.540</td> <td>    0.995</td>\n",
       "</tr>\n",
       "<tr>\n",
       "  <th>ma.S.L4</th> <td>   -0.0150</td> <td>    0.177</td> <td>   -0.085</td> <td> 0.933</td> <td>   -0.362</td> <td>    0.332</td>\n",
       "</tr>\n",
       "<tr>\n",
       "  <th>ma.S.L8</th> <td>   -0.8075</td> <td>    0.126</td> <td>   -6.430</td> <td> 0.000</td> <td>   -1.054</td> <td>   -0.561</td>\n",
       "</tr>\n",
       "<tr>\n",
       "  <th>sigma2</th>  <td> 1925.6649</td> <td>  183.015</td> <td>   10.522</td> <td> 0.000</td> <td> 1566.963</td> <td> 2284.367</td>\n",
       "</tr>\n",
       "</table>\n",
       "<table class=\"simpletable\">\n",
       "<tr>\n",
       "  <th>Ljung-Box (L1) (Q):</th>     <td>0.00</td> <th>  Jarque-Bera (JB):  </th> <td>16.26</td>\n",
       "</tr>\n",
       "<tr>\n",
       "  <th>Prob(Q):</th>                <td>0.99</td> <th>  Prob(JB):          </th> <td>0.00</td> \n",
       "</tr>\n",
       "<tr>\n",
       "  <th>Heteroskedasticity (H):</th> <td>3.53</td> <th>  Skew:              </th> <td>-0.15</td>\n",
       "</tr>\n",
       "<tr>\n",
       "  <th>Prob(H) (two-sided):</th>    <td>0.00</td> <th>  Kurtosis:          </th> <td>4.40</td> \n",
       "</tr>\n",
       "</table><br/><br/>Warnings:<br/>[1] Covariance matrix calculated using the outer product of gradients (complex-step)."
      ],
      "text/plain": [
       "<class 'statsmodels.iolib.summary.Summary'>\n",
       "\"\"\"\n",
       "                                      SARIMAX Results                                       \n",
       "============================================================================================\n",
       "Dep. Variable:                                    y   No. Observations:                  190\n",
       "Model:             ARIMA(1, 1, 1)x(2, 0, [1, 2], 4)   Log Likelihood                -985.154\n",
       "Date:                              Wed, 16 Feb 2022   AIC                           1984.308\n",
       "Time:                                      18:29:55   BIC                           2007.000\n",
       "Sample:                                           0   HQIC                          1993.501\n",
       "                                              - 190                                         \n",
       "Covariance Type:                                opg                                         \n",
       "==============================================================================\n",
       "                 coef    std err          z      P>|z|      [0.025      0.975]\n",
       "------------------------------------------------------------------------------\n",
       "ar.L1         -0.2674      0.060     -4.448      0.000      -0.385      -0.150\n",
       "ma.L1         -0.8802      0.043    -20.659      0.000      -0.964      -0.797\n",
       "ar.S.L4       -0.1750      0.167     -1.050      0.294      -0.502       0.152\n",
       "ar.S.L8        0.7675      0.116      6.598      0.000       0.540       0.995\n",
       "ma.S.L4       -0.0150      0.177     -0.085      0.933      -0.362       0.332\n",
       "ma.S.L8       -0.8075      0.126     -6.430      0.000      -1.054      -0.561\n",
       "sigma2      1925.6649    183.015     10.522      0.000    1566.963    2284.367\n",
       "===================================================================================\n",
       "Ljung-Box (L1) (Q):                   0.00   Jarque-Bera (JB):                16.26\n",
       "Prob(Q):                              0.99   Prob(JB):                         0.00\n",
       "Heteroskedasticity (H):               3.53   Skew:                            -0.15\n",
       "Prob(H) (two-sided):                  0.00   Kurtosis:                         4.40\n",
       "===================================================================================\n",
       "\n",
       "Warnings:\n",
       "[1] Covariance matrix calculated using the outer product of gradients (complex-step).\n",
       "\"\"\""
      ]
     },
     "execution_count": 36,
     "metadata": {},
     "output_type": "execute_result"
    }
   ],
   "source": [
    "# use the efficient fit\n",
    "model = arima.model.ARIMA(train, order=(1,1,1), seasonal_order=(2,0,2,4))\n",
    "model_fitted = model.fit()\n",
    "model_fitted.params\n",
    "model_fitted.summary()"
   ]
  },
  {
   "cell_type": "code",
   "execution_count": 37,
   "id": "f97bb9ee",
   "metadata": {},
   "outputs": [
    {
     "data": {
      "text/plain": [
       "[<matplotlib.lines.Line2D at 0x268bd886d30>]"
      ]
     },
     "execution_count": 37,
     "metadata": {},
     "output_type": "execute_result"
    },
    {
     "data": {
      "image/png": "[encoded data removed]",
      "text/plain": [
       "<Figure size 432x288 with 1 Axes>"
      ]
     },
     "metadata": {
      "needs_background": "light"
     },
     "output_type": "display_data"
    }
   ],
   "source": [
    "# plot train, test, in sample fitted values and out of sample forecast\n",
    "plt.plot(train, color=\"g\")\n",
    "plt.plot(model_fitted.fittedvalues, color=\"b\")"
   ]
  },
  {
   "cell_type": "code",
   "execution_count": 38,
   "id": "765ea90b",
   "metadata": {},
   "outputs": [
    {
     "data": {
      "image/png": "[encoded data removed]",
      "text/plain": [
       "<Figure size 432x288 with 1 Axes>"
      ]
     },
     "metadata": {
      "needs_background": "light"
     },
     "output_type": "display_data"
    }
   ],
   "source": [
    "plt.plot(test, label = 'actual', color = 'y')\n",
    "plt.plot(model_fitted.forecast(steps=len(test)), label = 'predicted', color=\"r\")\n",
    "plt.legend()\n",
    "plt.show()"
   ]
  },
  {
   "cell_type": "code",
   "execution_count": 39,
   "id": "8d80bb21",
   "metadata": {},
   "outputs": [],
   "source": [
    "forecast = pd.DataFrame(model_fitted.forecast(steps=len(test)),\n",
    "                        index = df.index[-12:],columns=['realdpi_Predicted_Differenced_1'])"
   ]
  },
  {
   "cell_type": "code",
   "execution_count": 40,
   "id": "7bdde3f5",
   "metadata": {},
   "outputs": [],
   "source": [
    "#Transforming to Original Forecast\n",
    "forecast[\"realdpi_Predicted\"] = arima_df[\"realdpi\"].iloc[-12-1] + forecast['realdpi_Predicted_Differenced_1'].cumsum()"
   ]
  },
  {
   "cell_type": "code",
   "execution_count": 41,
   "id": "09aaded7",
   "metadata": {},
   "outputs": [],
   "source": [
    "forecast['realdpi_actual'] = arima_df.realdpi.iloc[-12:]"
   ]
  },
  {
   "cell_type": "code",
   "execution_count": 42,
   "id": "1fe5a028",
   "metadata": {},
   "outputs": [
    {
     "data": {
      "text/html": [
       "<div>\n",
       "<style scoped>\n",
       "    .dataframe tbody tr th:only-of-type {\n",
       "        vertical-align: middle;\n",
       "    }\n",
       "\n",
       "    .dataframe tbody tr th {\n",
       "        vertical-align: top;\n",
       "    }\n",
       "\n",
       "    .dataframe thead th {\n",
       "        text-align: right;\n",
       "    }\n",
       "</style>\n",
       "<table border=\"1\" class=\"dataframe\">\n",
       "  <thead>\n",
       "    <tr style=\"text-align: right;\">\n",
       "      <th></th>\n",
       "      <th>realdpi_Predicted_Differenced_1</th>\n",
       "      <th>realdpi_Predicted</th>\n",
       "      <th>realdpi_actual</th>\n",
       "    </tr>\n",
       "    <tr>\n",
       "      <th>year</th>\n",
       "      <th></th>\n",
       "      <th></th>\n",
       "      <th></th>\n",
       "    </tr>\n",
       "  </thead>\n",
       "  <tbody>\n",
       "    <tr>\n",
       "      <th>2006.0</th>\n",
       "      <td>76.445011</td>\n",
       "      <td>9738.945011</td>\n",
       "      <td>9788.8</td>\n",
       "    </tr>\n",
       "    <tr>\n",
       "      <th>2007.0</th>\n",
       "      <td>19.488564</td>\n",
       "      <td>9758.433576</td>\n",
       "      <td>9830.2</td>\n",
       "    </tr>\n",
       "    <tr>\n",
       "      <th>2007.0</th>\n",
       "      <td>51.025883</td>\n",
       "      <td>9809.459458</td>\n",
       "      <td>9842.7</td>\n",
       "    </tr>\n",
       "    <tr>\n",
       "      <th>2007.0</th>\n",
       "      <td>71.210464</td>\n",
       "      <td>9880.669923</td>\n",
       "      <td>9883.9</td>\n",
       "    </tr>\n",
       "    <tr>\n",
       "      <th>2007.0</th>\n",
       "      <td>65.056994</td>\n",
       "      <td>9945.726917</td>\n",
       "      <td>9886.2</td>\n",
       "    </tr>\n",
       "    <tr>\n",
       "      <th>2008.0</th>\n",
       "      <td>97.967206</td>\n",
       "      <td>10043.694122</td>\n",
       "      <td>9826.8</td>\n",
       "    </tr>\n",
       "    <tr>\n",
       "      <th>2008.0</th>\n",
       "      <td>69.215375</td>\n",
       "      <td>10112.909498</td>\n",
       "      <td>10059.0</td>\n",
       "    </tr>\n",
       "    <tr>\n",
       "      <th>2008.0</th>\n",
       "      <td>45.311746</td>\n",
       "      <td>10158.221244</td>\n",
       "      <td>9838.3</td>\n",
       "    </tr>\n",
       "    <tr>\n",
       "      <th>2008.0</th>\n",
       "      <td>71.650060</td>\n",
       "      <td>10229.871304</td>\n",
       "      <td>9920.4</td>\n",
       "    </tr>\n",
       "    <tr>\n",
       "      <th>2009.0</th>\n",
       "      <td>21.835062</td>\n",
       "      <td>10251.706367</td>\n",
       "      <td>9926.4</td>\n",
       "    </tr>\n",
       "    <tr>\n",
       "      <th>2009.0</th>\n",
       "      <td>51.162446</td>\n",
       "      <td>10302.868813</td>\n",
       "      <td>10077.5</td>\n",
       "    </tr>\n",
       "    <tr>\n",
       "      <th>2009.0</th>\n",
       "      <td>70.812236</td>\n",
       "      <td>10373.681049</td>\n",
       "      <td>10040.6</td>\n",
       "    </tr>\n",
       "  </tbody>\n",
       "</table>\n",
       "</div>"
      ],
      "text/plain": [
       "        realdpi_Predicted_Differenced_1  realdpi_Predicted  realdpi_actual\n",
       "year                                                                      \n",
       "2006.0                        76.445011        9738.945011          9788.8\n",
       "2007.0                        19.488564        9758.433576          9830.2\n",
       "2007.0                        51.025883        9809.459458          9842.7\n",
       "2007.0                        71.210464        9880.669923          9883.9\n",
       "2007.0                        65.056994        9945.726917          9886.2\n",
       "2008.0                        97.967206       10043.694122          9826.8\n",
       "2008.0                        69.215375       10112.909498         10059.0\n",
       "2008.0                        45.311746       10158.221244          9838.3\n",
       "2008.0                        71.650060       10229.871304          9920.4\n",
       "2009.0                        21.835062       10251.706367          9926.4\n",
       "2009.0                        51.162446       10302.868813         10077.5\n",
       "2009.0                        70.812236       10373.681049         10040.6"
      ]
     },
     "execution_count": 42,
     "metadata": {},
     "output_type": "execute_result"
    }
   ],
   "source": [
    "forecast"
   ]
  },
  {
   "cell_type": "code",
   "execution_count": 43,
   "id": "9cecf7a0",
   "metadata": {},
   "outputs": [
    {
     "data": {
      "text/plain": [
       "209.74676488124"
      ]
     },
     "execution_count": 43,
     "metadata": {},
     "output_type": "execute_result"
    }
   ],
   "source": [
    "#rmse\n",
    "mean_squared_error(forecast['realdpi_actual'],forecast['realdpi_Predicted'],squared=False)"
   ]
  },
  {
   "cell_type": "code",
   "execution_count": null,
   "id": "90f1e126",
   "metadata": {},
   "outputs": [],
   "source": []
  },
  {
   "cell_type": "markdown",
   "id": "2683e96f",
   "metadata": {},
   "source": [
    "**VAR**"
   ]
  },
  {
   "cell_type": "code",
   "execution_count": 44,
   "id": "36230914",
   "metadata": {},
   "outputs": [
    {
     "data": {
      "text/html": [
       "<div>\n",
       "<style scoped>\n",
       "    .dataframe tbody tr th:only-of-type {\n",
       "        vertical-align: middle;\n",
       "    }\n",
       "\n",
       "    .dataframe tbody tr th {\n",
       "        vertical-align: top;\n",
       "    }\n",
       "\n",
       "    .dataframe thead th {\n",
       "        text-align: right;\n",
       "    }\n",
       "</style>\n",
       "<table border=\"1\" class=\"dataframe\">\n",
       "  <thead>\n",
       "    <tr style=\"text-align: right;\">\n",
       "      <th></th>\n",
       "      <th>realgdp</th>\n",
       "      <th>realdpi</th>\n",
       "    </tr>\n",
       "    <tr>\n",
       "      <th>year</th>\n",
       "      <th></th>\n",
       "      <th></th>\n",
       "    </tr>\n",
       "  </thead>\n",
       "  <tbody>\n",
       "    <tr>\n",
       "      <th>1959.0</th>\n",
       "      <td>2710.349</td>\n",
       "      <td>1886.9</td>\n",
       "    </tr>\n",
       "    <tr>\n",
       "      <th>1959.0</th>\n",
       "      <td>2778.801</td>\n",
       "      <td>1919.7</td>\n",
       "    </tr>\n",
       "    <tr>\n",
       "      <th>1959.0</th>\n",
       "      <td>2775.488</td>\n",
       "      <td>1916.4</td>\n",
       "    </tr>\n",
       "    <tr>\n",
       "      <th>1959.0</th>\n",
       "      <td>2785.204</td>\n",
       "      <td>1931.3</td>\n",
       "    </tr>\n",
       "    <tr>\n",
       "      <th>1960.0</th>\n",
       "      <td>2847.699</td>\n",
       "      <td>1955.5</td>\n",
       "    </tr>\n",
       "  </tbody>\n",
       "</table>\n",
       "</div>"
      ],
      "text/plain": [
       "         realgdp  realdpi\n",
       "year                     \n",
       "1959.0  2710.349   1886.9\n",
       "1959.0  2778.801   1919.7\n",
       "1959.0  2775.488   1916.4\n",
       "1959.0  2785.204   1931.3\n",
       "1960.0  2847.699   1955.5"
      ]
     },
     "execution_count": 44,
     "metadata": {},
     "output_type": "execute_result"
    }
   ],
   "source": [
    "df.head()"
   ]
  },
  {
   "cell_type": "code",
   "execution_count": 45,
   "id": "bd24bf06",
   "metadata": {
    "scrolled": true
   },
   "outputs": [
    {
     "name": "stdout",
     "output_type": "stream",
     "text": [
      "\n",
      "Granger Causality\n",
      "number of lags (no zero) 1\n",
      "ssr based F test:         F=0.0451  , p=0.8320  , df_denom=199, df_num=1\n",
      "ssr based chi2 test:   chi2=0.0458  , p=0.8306  , df=1\n",
      "likelihood ratio test: chi2=0.0458  , p=0.8306  , df=1\n",
      "parameter F test:         F=0.0451  , p=0.8320  , df_denom=199, df_num=1\n",
      "\n",
      "Granger Causality\n",
      "number of lags (no zero) 2\n",
      "ssr based F test:         F=2.8221  , p=0.0619  , df_denom=196, df_num=2\n",
      "ssr based chi2 test:   chi2=5.7882  , p=0.0553  , df=2\n",
      "likelihood ratio test: chi2=5.7064  , p=0.0577  , df=2\n",
      "parameter F test:         F=2.8221  , p=0.0619  , df_denom=196, df_num=2\n",
      "\n",
      "Granger Causality\n",
      "number of lags (no zero) 3\n",
      "ssr based F test:         F=3.1094  , p=0.0276  , df_denom=193, df_num=3\n",
      "ssr based chi2 test:   chi2=9.6665  , p=0.0216  , df=3\n",
      "likelihood ratio test: chi2=9.4402  , p=0.0240  , df=3\n",
      "parameter F test:         F=3.1094  , p=0.0276  , df_denom=193, df_num=3\n",
      "\n",
      "Granger Causality\n",
      "number of lags (no zero) 4\n",
      "ssr based F test:         F=2.0785  , p=0.0852  , df_denom=190, df_num=4\n",
      "ssr based chi2 test:   chi2=8.7078  , p=0.0688  , df=4\n",
      "likelihood ratio test: chi2=8.5226  , p=0.0742  , df=4\n",
      "parameter F test:         F=2.0785  , p=0.0852  , df_denom=190, df_num=4\n",
      "\n",
      "Granger Causality\n",
      "number of lags (no zero) 5\n",
      "ssr based F test:         F=1.6589  , p=0.1466  , df_denom=187, df_num=5\n",
      "ssr based chi2 test:   chi2=8.7825  , p=0.1181  , df=5\n",
      "likelihood ratio test: chi2=8.5933  , p=0.1264  , df=5\n",
      "parameter F test:         F=1.6589  , p=0.1466  , df_denom=187, df_num=5\n",
      "\n",
      "Granger Causality\n",
      "number of lags (no zero) 6\n",
      "ssr based F test:         F=1.2928  , p=0.2625  , df_denom=184, df_num=6\n",
      "ssr based chi2 test:   chi2=8.3047  , p=0.2166  , df=6\n",
      "likelihood ratio test: chi2=8.1344  , p=0.2284  , df=6\n",
      "parameter F test:         F=1.2928  , p=0.2625  , df_denom=184, df_num=6\n",
      "\n",
      "Granger Causality\n",
      "number of lags (no zero) 7\n",
      "ssr based F test:         F=2.3279  , p=0.0268  , df_denom=181, df_num=7\n",
      "ssr based chi2 test:   chi2=17.6460 , p=0.0137  , df=7\n",
      "likelihood ratio test: chi2=16.8963 , p=0.0181  , df=7\n",
      "parameter F test:         F=2.3279  , p=0.0268  , df_denom=181, df_num=7\n",
      "\n",
      "Granger Causality\n",
      "number of lags (no zero) 8\n",
      "ssr based F test:         F=1.9712  , p=0.0525  , df_denom=178, df_num=8\n",
      "ssr based chi2 test:   chi2=17.2759 , p=0.0274  , df=8\n",
      "likelihood ratio test: chi2=16.5531 , p=0.0351  , df=8\n",
      "parameter F test:         F=1.9712  , p=0.0525  , df_denom=178, df_num=8\n",
      "\n",
      "Granger Causality\n",
      "number of lags (no zero) 9\n",
      "ssr based F test:         F=1.8130  , p=0.0688  , df_denom=175, df_num=9\n",
      "ssr based chi2 test:   chi2=18.0881 , p=0.0342  , df=9\n",
      "likelihood ratio test: chi2=17.2939 , p=0.0443  , df=9\n",
      "parameter F test:         F=1.8130  , p=0.0688  , df_denom=175, df_num=9\n",
      "\n",
      "Granger Causality\n",
      "number of lags (no zero) 10\n",
      "ssr based F test:         F=1.6130  , p=0.1064  , df_denom=172, df_num=10\n",
      "ssr based chi2 test:   chi2=18.0989 , p=0.0533  , df=10\n",
      "likelihood ratio test: chi2=17.2998 , p=0.0680  , df=10\n",
      "parameter F test:         F=1.6130  , p=0.1064  , df_denom=172, df_num=10\n",
      "\n",
      "Granger Causality\n",
      "number of lags (no zero) 11\n",
      "ssr based F test:         F=1.6150  , p=0.0984  , df_denom=169, df_num=11\n",
      "ssr based chi2 test:   chi2=20.1823 , p=0.0429  , df=11\n",
      "likelihood ratio test: chi2=19.1905 , p=0.0578  , df=11\n",
      "parameter F test:         F=1.6150  , p=0.0984  , df_denom=169, df_num=11\n",
      "\n",
      "Granger Causality\n",
      "number of lags (no zero) 12\n",
      "ssr based F test:         F=1.7240  , p=0.0657  , df_denom=166, df_num=12\n",
      "ssr based chi2 test:   chi2=23.8033 , p=0.0216  , df=12\n",
      "likelihood ratio test: chi2=22.4329 , p=0.0329  , df=12\n",
      "parameter F test:         F=1.7240  , p=0.0657  , df_denom=166, df_num=12\n"
     ]
    }
   ],
   "source": [
    "#Granger Causality Tests - realdpi granger causes realgdp\n",
    "result = grangercausalitytests(df,maxlag=12)"
   ]
  },
  {
   "attachments": {
    "image.png": {
     "image/png": "[encoded data removed]"
    }
   },
   "cell_type": "markdown",
   "id": "8e34439d",
   "metadata": {},
   "source": [
    "![image.png](attachment:image.png)"
   ]
  },
  {
   "cell_type": "code",
   "execution_count": 46,
   "id": "ec7c0618",
   "metadata": {},
   "outputs": [],
   "source": [
    "#reordering the dataframe\n",
    "df = df[['realdpi','realgdp']]"
   ]
  },
  {
   "cell_type": "code",
   "execution_count": 47,
   "id": "a36c9546",
   "metadata": {},
   "outputs": [
    {
     "data": {
      "text/html": [
       "<div>\n",
       "<style scoped>\n",
       "    .dataframe tbody tr th:only-of-type {\n",
       "        vertical-align: middle;\n",
       "    }\n",
       "\n",
       "    .dataframe tbody tr th {\n",
       "        vertical-align: top;\n",
       "    }\n",
       "\n",
       "    .dataframe thead th {\n",
       "        text-align: right;\n",
       "    }\n",
       "</style>\n",
       "<table border=\"1\" class=\"dataframe\">\n",
       "  <thead>\n",
       "    <tr style=\"text-align: right;\">\n",
       "      <th></th>\n",
       "      <th>realdpi</th>\n",
       "      <th>realgdp</th>\n",
       "    </tr>\n",
       "    <tr>\n",
       "      <th>year</th>\n",
       "      <th></th>\n",
       "      <th></th>\n",
       "    </tr>\n",
       "  </thead>\n",
       "  <tbody>\n",
       "    <tr>\n",
       "      <th>1959.0</th>\n",
       "      <td>1886.9</td>\n",
       "      <td>2710.349</td>\n",
       "    </tr>\n",
       "    <tr>\n",
       "      <th>1959.0</th>\n",
       "      <td>1919.7</td>\n",
       "      <td>2778.801</td>\n",
       "    </tr>\n",
       "    <tr>\n",
       "      <th>1959.0</th>\n",
       "      <td>1916.4</td>\n",
       "      <td>2775.488</td>\n",
       "    </tr>\n",
       "    <tr>\n",
       "      <th>1959.0</th>\n",
       "      <td>1931.3</td>\n",
       "      <td>2785.204</td>\n",
       "    </tr>\n",
       "    <tr>\n",
       "      <th>1960.0</th>\n",
       "      <td>1955.5</td>\n",
       "      <td>2847.699</td>\n",
       "    </tr>\n",
       "  </tbody>\n",
       "</table>\n",
       "</div>"
      ],
      "text/plain": [
       "        realdpi   realgdp\n",
       "year                     \n",
       "1959.0   1886.9  2710.349\n",
       "1959.0   1919.7  2778.801\n",
       "1959.0   1916.4  2775.488\n",
       "1959.0   1931.3  2785.204\n",
       "1960.0   1955.5  2847.699"
      ]
     },
     "execution_count": 47,
     "metadata": {},
     "output_type": "execute_result"
    }
   ],
   "source": [
    "df.head()"
   ]
  },
  {
   "cell_type": "code",
   "execution_count": 48,
   "id": "54f27aba",
   "metadata": {},
   "outputs": [
    {
     "name": "stdout",
     "output_type": "stream",
     "text": [
      "\n",
      "Granger Causality\n",
      "number of lags (no zero) 1\n",
      "ssr based F test:         F=12.6870 , p=0.0005  , df_denom=199, df_num=1\n",
      "ssr based chi2 test:   chi2=12.8783 , p=0.0003  , df=1\n",
      "likelihood ratio test: chi2=12.4844 , p=0.0004  , df=1\n",
      "parameter F test:         F=12.6870 , p=0.0005  , df_denom=199, df_num=1\n",
      "\n",
      "Granger Causality\n",
      "number of lags (no zero) 2\n",
      "ssr based F test:         F=6.9020  , p=0.0013  , df_denom=196, df_num=2\n",
      "ssr based chi2 test:   chi2=14.1562 , p=0.0008  , df=2\n",
      "likelihood ratio test: chi2=13.6799 , p=0.0011  , df=2\n",
      "parameter F test:         F=6.9020  , p=0.0013  , df_denom=196, df_num=2\n",
      "\n",
      "Granger Causality\n",
      "number of lags (no zero) 3\n",
      "ssr based F test:         F=3.6719  , p=0.0132  , df_denom=193, df_num=3\n",
      "ssr based chi2 test:   chi2=11.4152 , p=0.0097  , df=3\n",
      "likelihood ratio test: chi2=11.1013 , p=0.0112  , df=3\n",
      "parameter F test:         F=3.6719  , p=0.0132  , df_denom=193, df_num=3\n",
      "\n",
      "Granger Causality\n",
      "number of lags (no zero) 4\n",
      "ssr based F test:         F=3.5250  , p=0.0084  , df_denom=190, df_num=4\n",
      "ssr based chi2 test:   chi2=14.7678 , p=0.0052  , df=4\n",
      "likelihood ratio test: chi2=14.2455 , p=0.0066  , df=4\n",
      "parameter F test:         F=3.5250  , p=0.0084  , df_denom=190, df_num=4\n",
      "\n",
      "Granger Causality\n",
      "number of lags (no zero) 5\n",
      "ssr based F test:         F=3.1362  , p=0.0096  , df_denom=187, df_num=5\n",
      "ssr based chi2 test:   chi2=16.6034 , p=0.0053  , df=5\n",
      "likelihood ratio test: chi2=15.9439 , p=0.0070  , df=5\n",
      "parameter F test:         F=3.1362  , p=0.0096  , df_denom=187, df_num=5\n",
      "\n",
      "Granger Causality\n",
      "number of lags (no zero) 6\n",
      "ssr based F test:         F=2.8278  , p=0.0117  , df_denom=184, df_num=6\n",
      "ssr based chi2 test:   chi2=18.1653 , p=0.0058  , df=6\n",
      "likelihood ratio test: chi2=17.3759 , p=0.0080  , df=6\n",
      "parameter F test:         F=2.8278  , p=0.0117  , df_denom=184, df_num=6\n",
      "\n",
      "Granger Causality\n",
      "number of lags (no zero) 7\n",
      "ssr based F test:         F=2.2532  , p=0.0320  , df_denom=181, df_num=7\n",
      "ssr based chi2 test:   chi2=17.0794 , p=0.0169  , df=7\n",
      "likelihood ratio test: chi2=16.3758 , p=0.0219  , df=7\n",
      "parameter F test:         F=2.2532  , p=0.0320  , df_denom=181, df_num=7\n",
      "\n",
      "Granger Causality\n",
      "number of lags (no zero) 8\n",
      "ssr based F test:         F=2.1839  , p=0.0307  , df_denom=178, df_num=8\n",
      "ssr based chi2 test:   chi2=19.1402 , p=0.0141  , df=8\n",
      "likelihood ratio test: chi2=18.2581 , p=0.0194  , df=8\n",
      "parameter F test:         F=2.1839  , p=0.0307  , df_denom=178, df_num=8\n",
      "\n",
      "Granger Causality\n",
      "number of lags (no zero) 9\n",
      "ssr based F test:         F=1.9774  , p=0.0445  , df_denom=175, df_num=9\n",
      "ssr based chi2 test:   chi2=19.7291 , p=0.0197  , df=9\n",
      "likelihood ratio test: chi2=18.7891 , p=0.0270  , df=9\n",
      "parameter F test:         F=1.9774  , p=0.0445  , df_denom=175, df_num=9\n",
      "\n",
      "Granger Causality\n",
      "number of lags (no zero) 10\n",
      "ssr based F test:         F=1.6167  , p=0.1053  , df_denom=172, df_num=10\n",
      "ssr based chi2 test:   chi2=18.1411 , p=0.0526  , df=10\n",
      "likelihood ratio test: chi2=17.3385 , p=0.0672  , df=10\n",
      "parameter F test:         F=1.6167  , p=0.1053  , df_denom=172, df_num=10\n",
      "\n",
      "Granger Causality\n",
      "number of lags (no zero) 11\n",
      "ssr based F test:         F=1.4239  , p=0.1661  , df_denom=169, df_num=11\n",
      "ssr based chi2 test:   chi2=17.7951 , p=0.0865  , df=11\n",
      "likelihood ratio test: chi2=17.0181 , p=0.1073  , df=11\n",
      "parameter F test:         F=1.4239  , p=0.1661  , df_denom=169, df_num=11\n",
      "\n",
      "Granger Causality\n",
      "number of lags (no zero) 12\n",
      "ssr based F test:         F=1.5461  , p=0.1124  , df_denom=166, df_num=12\n",
      "ssr based chi2 test:   chi2=21.3471 , p=0.0455  , df=12\n",
      "likelihood ratio test: chi2=20.2363 , p=0.0627  , df=12\n",
      "parameter F test:         F=1.5461  , p=0.1124  , df_denom=166, df_num=12\n"
     ]
    }
   ],
   "source": [
    "#Granger Causality Tests - realgdp granger causes realdpi\n",
    "result = grangercausalitytests(df,maxlag=12)"
   ]
  },
  {
   "cell_type": "code",
   "execution_count": 49,
   "id": "f92218b4",
   "metadata": {},
   "outputs": [],
   "source": [
    "#reordering the dataframe again\n",
    "df = df[['realgdp','realdpi']]"
   ]
  },
  {
   "cell_type": "code",
   "execution_count": 50,
   "id": "d07057a1",
   "metadata": {},
   "outputs": [
    {
     "name": "stdout",
     "output_type": "stream",
     "text": [
      "ADF Statistic: 1.750463\n",
      "p-value: 0.998246\n",
      "Critical Values:\n",
      "\t1%: -3.465\n",
      "\t5%: -2.877\n",
      "\t10%: -2.575\n"
     ]
    }
   ],
   "source": [
    "# Stationarity Test for realgdp\n",
    "result = adfuller(df['realgdp'])\n",
    "print('ADF Statistic: %f' % result[0])\n",
    "print('p-value: %f' % result[1])\n",
    "print('Critical Values:')\n",
    "for key, value in result[4].items():\n",
    "    print('\\t%s: %.3f' % (key, value))"
   ]
  },
  {
   "cell_type": "code",
   "execution_count": 51,
   "id": "0b4ae9d2",
   "metadata": {},
   "outputs": [
    {
     "name": "stdout",
     "output_type": "stream",
     "text": [
      "ADF Statistic: 2.986025\n",
      "p-value: 1.000000\n",
      "Critical Values:\n",
      "\t1%: -3.463\n",
      "\t5%: -2.876\n",
      "\t10%: -2.575\n"
     ]
    }
   ],
   "source": [
    "# Stationarity Test for realdpi\n",
    "result = adfuller(df['realdpi'])\n",
    "print('ADF Statistic: %f' % result[0])\n",
    "print('p-value: %f' % result[1])\n",
    "print('Critical Values:')\n",
    "for key, value in result[4].items():\n",
    "    print('\\t%s: %.3f' % (key, value))"
   ]
  },
  {
   "cell_type": "markdown",
   "id": "06fcdfd6",
   "metadata": {},
   "source": [
    "**The series is not stationary. Let us do differencing**"
   ]
  },
  {
   "cell_type": "code",
   "execution_count": 52,
   "id": "da007a50",
   "metadata": {},
   "outputs": [],
   "source": [
    "df_differenced = df.diff().dropna()"
   ]
  },
  {
   "cell_type": "code",
   "execution_count": 53,
   "id": "ac4566ba",
   "metadata": {},
   "outputs": [
    {
     "data": {
      "text/html": [
       "<div>\n",
       "<style scoped>\n",
       "    .dataframe tbody tr th:only-of-type {\n",
       "        vertical-align: middle;\n",
       "    }\n",
       "\n",
       "    .dataframe tbody tr th {\n",
       "        vertical-align: top;\n",
       "    }\n",
       "\n",
       "    .dataframe thead th {\n",
       "        text-align: right;\n",
       "    }\n",
       "</style>\n",
       "<table border=\"1\" class=\"dataframe\">\n",
       "  <thead>\n",
       "    <tr style=\"text-align: right;\">\n",
       "      <th></th>\n",
       "      <th>realgdp</th>\n",
       "      <th>realdpi</th>\n",
       "    </tr>\n",
       "    <tr>\n",
       "      <th>year</th>\n",
       "      <th></th>\n",
       "      <th></th>\n",
       "    </tr>\n",
       "  </thead>\n",
       "  <tbody>\n",
       "    <tr>\n",
       "      <th>1959.0</th>\n",
       "      <td>68.452</td>\n",
       "      <td>32.8</td>\n",
       "    </tr>\n",
       "    <tr>\n",
       "      <th>1959.0</th>\n",
       "      <td>-3.313</td>\n",
       "      <td>-3.3</td>\n",
       "    </tr>\n",
       "    <tr>\n",
       "      <th>1959.0</th>\n",
       "      <td>9.716</td>\n",
       "      <td>14.9</td>\n",
       "    </tr>\n",
       "    <tr>\n",
       "      <th>1960.0</th>\n",
       "      <td>62.495</td>\n",
       "      <td>24.2</td>\n",
       "    </tr>\n",
       "    <tr>\n",
       "      <th>1960.0</th>\n",
       "      <td>-13.309</td>\n",
       "      <td>10.6</td>\n",
       "    </tr>\n",
       "  </tbody>\n",
       "</table>\n",
       "</div>"
      ],
      "text/plain": [
       "        realgdp  realdpi\n",
       "year                    \n",
       "1959.0   68.452     32.8\n",
       "1959.0   -3.313     -3.3\n",
       "1959.0    9.716     14.9\n",
       "1960.0   62.495     24.2\n",
       "1960.0  -13.309     10.6"
      ]
     },
     "execution_count": 53,
     "metadata": {},
     "output_type": "execute_result"
    }
   ],
   "source": [
    "df_differenced.head()"
   ]
  },
  {
   "cell_type": "code",
   "execution_count": 54,
   "id": "09b1b4a2",
   "metadata": {},
   "outputs": [
    {
     "name": "stdout",
     "output_type": "stream",
     "text": [
      "ADF Statistic: -6.305696\n",
      "p-value: 0.000000\n",
      "Critical Values:\n",
      "\t1%: -3.463\n",
      "\t5%: -2.876\n",
      "\t10%: -2.575\n"
     ]
    }
   ],
   "source": [
    "# Stationarity Test for realgdp\n",
    "result = adfuller(df_differenced['realgdp'])\n",
    "print('ADF Statistic: %f' % result[0])\n",
    "print('p-value: %f' % result[1])\n",
    "print('Critical Values:')\n",
    "for key, value in result[4].items():\n",
    "    print('\\t%s: %.3f' % (key, value))"
   ]
  },
  {
   "cell_type": "code",
   "execution_count": 55,
   "id": "71b5dd52",
   "metadata": {},
   "outputs": [
    {
     "name": "stdout",
     "output_type": "stream",
     "text": [
      "ADF Statistic: -8.864893\n",
      "p-value: 0.000000\n",
      "Critical Values:\n",
      "\t1%: -3.463\n",
      "\t5%: -2.876\n",
      "\t10%: -2.575\n"
     ]
    }
   ],
   "source": [
    "# Stationarity Test for realdpi\n",
    "result = adfuller(df_differenced['realdpi'])\n",
    "print('ADF Statistic: %f' % result[0])\n",
    "print('p-value: %f' % result[1])\n",
    "print('Critical Values:')\n",
    "for key, value in result[4].items():\n",
    "    print('\\t%s: %.3f' % (key, value))"
   ]
  },
  {
   "cell_type": "markdown",
   "id": "69e88fd8",
   "metadata": {},
   "source": [
    "*Cointegration is a statistical property of a collection (X1, X2, ..., Xk) of time series variables. First, all of the series must be integrated(stationary) of order d. Next, if a linear combination of this collection is integrated(stationary) of order less than d, then the collection is said to be co-integrated.*"
   ]
  },
  {
   "cell_type": "code",
   "execution_count": 56,
   "id": "a4aabe8d",
   "metadata": {},
   "outputs": [
    {
     "name": "stdout",
     "output_type": "stream",
     "text": [
      "ADF Statistic: -6.503156\n",
      "p-value: 0.000000\n",
      "Critical Values:\n",
      "\t1%: -3.463\n",
      "\t5%: -2.876\n",
      "\t10%: -2.575\n"
     ]
    }
   ],
   "source": [
    "# Stationarity Test for realgdp+realdpi\n",
    "result = adfuller(df_differenced['realgdp']+df_differenced['realdpi'])\n",
    "print('ADF Statistic: %f' % result[0])\n",
    "print('p-value: %f' % result[1])\n",
    "print('Critical Values:')\n",
    "for key, value in result[4].items():\n",
    "    print('\\t%s: %.3f' % (key, value))"
   ]
  },
  {
   "cell_type": "code",
   "execution_count": 57,
   "id": "12e8af3e",
   "metadata": {},
   "outputs": [
    {
     "data": {
      "text/plain": [
       "(-3.761534312299772,\n",
       " 0.01524230364913689,\n",
       " array([-3.95175692, -3.36669739, -3.06561782]))"
      ]
     },
     "execution_count": 57,
     "metadata": {},
     "output_type": "execute_result"
    }
   ],
   "source": [
    "#cointegration test - the null hypothesis:\n",
    "#no cointegration present between two time series(or no statistically significant relationship between two time series )\n",
    "ts.coint(df_differenced['realgdp'],df_differenced['realdpi'])"
   ]
  },
  {
   "cell_type": "markdown",
   "id": "afa21e41",
   "metadata": {},
   "source": [
    "**Series is now stationary**"
   ]
  },
  {
   "cell_type": "code",
   "execution_count": 58,
   "id": "9808e180",
   "metadata": {},
   "outputs": [],
   "source": [
    "#split series into train and test\n",
    "\n",
    "#Last 10 observations are kept as test data\n",
    "\n",
    "df_train, df_test = df_differenced.iloc[:-12,:], df_differenced.iloc[-12:,:]"
   ]
  },
  {
   "cell_type": "code",
   "execution_count": 59,
   "id": "99ad45ec",
   "metadata": {},
   "outputs": [
    {
     "name": "stdout",
     "output_type": "stream",
     "text": [
      "(190, 2)\n",
      "(12, 2)\n"
     ]
    }
   ],
   "source": [
    "print(df_train.shape)\n",
    "print(df_test.shape)"
   ]
  },
  {
   "cell_type": "code",
   "execution_count": 60,
   "id": "b8953e65",
   "metadata": {},
   "outputs": [
    {
     "data": {
      "text/html": [
       "<div>\n",
       "<style scoped>\n",
       "    .dataframe tbody tr th:only-of-type {\n",
       "        vertical-align: middle;\n",
       "    }\n",
       "\n",
       "    .dataframe tbody tr th {\n",
       "        vertical-align: top;\n",
       "    }\n",
       "\n",
       "    .dataframe thead th {\n",
       "        text-align: right;\n",
       "    }\n",
       "</style>\n",
       "<table border=\"1\" class=\"dataframe\">\n",
       "  <thead>\n",
       "    <tr style=\"text-align: right;\">\n",
       "      <th></th>\n",
       "      <th>realgdp</th>\n",
       "      <th>realdpi</th>\n",
       "    </tr>\n",
       "    <tr>\n",
       "      <th>year</th>\n",
       "      <th></th>\n",
       "      <th></th>\n",
       "    </tr>\n",
       "  </thead>\n",
       "  <tbody>\n",
       "    <tr>\n",
       "      <th>1959.0</th>\n",
       "      <td>68.452</td>\n",
       "      <td>32.8</td>\n",
       "    </tr>\n",
       "    <tr>\n",
       "      <th>1959.0</th>\n",
       "      <td>-3.313</td>\n",
       "      <td>-3.3</td>\n",
       "    </tr>\n",
       "    <tr>\n",
       "      <th>1959.0</th>\n",
       "      <td>9.716</td>\n",
       "      <td>14.9</td>\n",
       "    </tr>\n",
       "    <tr>\n",
       "      <th>1960.0</th>\n",
       "      <td>62.495</td>\n",
       "      <td>24.2</td>\n",
       "    </tr>\n",
       "    <tr>\n",
       "      <th>1960.0</th>\n",
       "      <td>-13.309</td>\n",
       "      <td>10.6</td>\n",
       "    </tr>\n",
       "    <tr>\n",
       "      <th>...</th>\n",
       "      <td>...</td>\n",
       "      <td>...</td>\n",
       "    </tr>\n",
       "    <tr>\n",
       "      <th>2005.0</th>\n",
       "      <td>95.618</td>\n",
       "      <td>55.0</td>\n",
       "    </tr>\n",
       "    <tr>\n",
       "      <th>2005.0</th>\n",
       "      <td>65.546</td>\n",
       "      <td>50.7</td>\n",
       "    </tr>\n",
       "    <tr>\n",
       "      <th>2006.0</th>\n",
       "      <td>167.239</td>\n",
       "      <td>175.1</td>\n",
       "    </tr>\n",
       "    <tr>\n",
       "      <th>2006.0</th>\n",
       "      <td>46.524</td>\n",
       "      <td>83.5</td>\n",
       "    </tr>\n",
       "    <tr>\n",
       "      <th>2006.0</th>\n",
       "      <td>3.454</td>\n",
       "      <td>45.2</td>\n",
       "    </tr>\n",
       "  </tbody>\n",
       "</table>\n",
       "<p>190 rows × 2 columns</p>\n",
       "</div>"
      ],
      "text/plain": [
       "        realgdp  realdpi\n",
       "year                    \n",
       "1959.0   68.452     32.8\n",
       "1959.0   -3.313     -3.3\n",
       "1959.0    9.716     14.9\n",
       "1960.0   62.495     24.2\n",
       "1960.0  -13.309     10.6\n",
       "...         ...      ...\n",
       "2005.0   95.618     55.0\n",
       "2005.0   65.546     50.7\n",
       "2006.0  167.239    175.1\n",
       "2006.0   46.524     83.5\n",
       "2006.0    3.454     45.2\n",
       "\n",
       "[190 rows x 2 columns]"
      ]
     },
     "execution_count": 60,
     "metadata": {},
     "output_type": "execute_result"
    }
   ],
   "source": [
    "df_train"
   ]
  },
  {
   "cell_type": "code",
   "execution_count": 61,
   "id": "4bc3a4fa",
   "metadata": {},
   "outputs": [
    {
     "data": {
      "text/html": [
       "<div>\n",
       "<style scoped>\n",
       "    .dataframe tbody tr th:only-of-type {\n",
       "        vertical-align: middle;\n",
       "    }\n",
       "\n",
       "    .dataframe tbody tr th {\n",
       "        vertical-align: top;\n",
       "    }\n",
       "\n",
       "    .dataframe thead th {\n",
       "        text-align: right;\n",
       "    }\n",
       "</style>\n",
       "<table border=\"1\" class=\"dataframe\">\n",
       "  <thead>\n",
       "    <tr style=\"text-align: right;\">\n",
       "      <th></th>\n",
       "      <th>realgdp</th>\n",
       "      <th>realdpi</th>\n",
       "    </tr>\n",
       "    <tr>\n",
       "      <th>year</th>\n",
       "      <th></th>\n",
       "      <th></th>\n",
       "    </tr>\n",
       "  </thead>\n",
       "  <tbody>\n",
       "    <tr>\n",
       "      <th>2006.0</th>\n",
       "      <td>94.763</td>\n",
       "      <td>126.3</td>\n",
       "    </tr>\n",
       "    <tr>\n",
       "      <th>2007.0</th>\n",
       "      <td>39.222</td>\n",
       "      <td>41.4</td>\n",
       "    </tr>\n",
       "    <tr>\n",
       "      <th>2007.0</th>\n",
       "      <td>104.076</td>\n",
       "      <td>12.5</td>\n",
       "    </tr>\n",
       "    <tr>\n",
       "      <th>2007.0</th>\n",
       "      <td>117.132</td>\n",
       "      <td>41.2</td>\n",
       "    </tr>\n",
       "    <tr>\n",
       "      <th>2007.0</th>\n",
       "      <td>70.140</td>\n",
       "      <td>2.3</td>\n",
       "    </tr>\n",
       "    <tr>\n",
       "      <th>2008.0</th>\n",
       "      <td>-24.384</td>\n",
       "      <td>-59.4</td>\n",
       "    </tr>\n",
       "    <tr>\n",
       "      <th>2008.0</th>\n",
       "      <td>48.401</td>\n",
       "      <td>232.2</td>\n",
       "    </tr>\n",
       "    <tr>\n",
       "      <th>2008.0</th>\n",
       "      <td>-90.666</td>\n",
       "      <td>-220.7</td>\n",
       "    </tr>\n",
       "    <tr>\n",
       "      <th>2008.0</th>\n",
       "      <td>-182.680</td>\n",
       "      <td>82.1</td>\n",
       "    </tr>\n",
       "    <tr>\n",
       "      <th>2009.0</th>\n",
       "      <td>-216.510</td>\n",
       "      <td>6.0</td>\n",
       "    </tr>\n",
       "    <tr>\n",
       "      <th>2009.0</th>\n",
       "      <td>-23.906</td>\n",
       "      <td>151.1</td>\n",
       "    </tr>\n",
       "    <tr>\n",
       "      <th>2009.0</th>\n",
       "      <td>88.837</td>\n",
       "      <td>-36.9</td>\n",
       "    </tr>\n",
       "  </tbody>\n",
       "</table>\n",
       "</div>"
      ],
      "text/plain": [
       "        realgdp  realdpi\n",
       "year                    \n",
       "2006.0   94.763    126.3\n",
       "2007.0   39.222     41.4\n",
       "2007.0  104.076     12.5\n",
       "2007.0  117.132     41.2\n",
       "2007.0   70.140      2.3\n",
       "2008.0  -24.384    -59.4\n",
       "2008.0   48.401    232.2\n",
       "2008.0  -90.666   -220.7\n",
       "2008.0 -182.680     82.1\n",
       "2009.0 -216.510      6.0\n",
       "2009.0  -23.906    151.1\n",
       "2009.0   88.837    -36.9"
      ]
     },
     "execution_count": 61,
     "metadata": {},
     "output_type": "execute_result"
    }
   ],
   "source": [
    "df_test"
   ]
  },
  {
   "cell_type": "code",
   "execution_count": 62,
   "id": "3772e2aa",
   "metadata": {},
   "outputs": [
    {
     "name": "stdout",
     "output_type": "stream",
     "text": [
      "Lag Order = 1\n",
      "AIC :  15.336969508323353\n",
      "BIC :  15.43988211197604\n",
      "FPE :  4578925.133143401\n",
      "HQIC:  15.37866187928133 \n",
      "\n",
      "Lag Order = 2\n",
      "AIC :  15.32860950190867\n",
      "BIC :  15.500760670144304\n",
      "FPE :  4540894.5829626145\n",
      "HQIC:  15.39835867775664 \n",
      "\n",
      "Lag Order = 3\n",
      "AIC :  15.338027596372585\n",
      "BIC :  15.579928776244051\n",
      "FPE :  4584069.012736912\n",
      "HQIC:  15.436046047660419 \n",
      "\n",
      "Lag Order = 4\n",
      "AIC :  15.36557119978433\n",
      "BIC :  15.677740232724318\n",
      "FPE :  4712468.680494434\n",
      "HQIC:  15.492073978823235 \n",
      "\n",
      "Lag Order = 5\n",
      "AIC :  15.392525090879914\n",
      "BIC :  15.775486324132473\n",
      "FPE :  4841842.91157598\n",
      "HQIC:  15.547729873977149 \n",
      "\n",
      "Lag Order = 6\n",
      "AIC :  15.412854759935701\n",
      "BIC :  15.867139160467406\n",
      "FPE :  4942226.068181004\n",
      "HQIC:  15.596981890476474 \n",
      "\n",
      "Lag Order = 7\n",
      "AIC :  15.448605864908064\n",
      "BIC :  15.974751135865674\n",
      "FPE :  5123473.141708351\n",
      "HQIC:  15.661878397303974 \n",
      "\n",
      "Lag Order = 8\n",
      "AIC :  15.464725803721423\n",
      "BIC :  16.063276503505\n",
      "FPE :  5208581.603960022\n",
      "HQIC:  15.707369548245245 \n",
      "\n",
      "Lag Order = 9\n",
      "AIC :  15.471902655198237\n",
      "BIC :  16.143410319220898\n",
      "FPE :  5248512.258458794\n",
      "HQIC:  15.744146223725329 \n",
      "\n",
      "Lag Order = 10\n",
      "AIC :  15.497963257502304\n",
      "BIC :  16.24298652271002\n",
      "FPE :  5390226.706163262\n",
      "HQIC:  15.800038110179392 \n",
      "\n",
      "Lag Order = 11\n",
      "AIC :  15.53352888471415\n",
      "BIC :  16.352633616941382\n",
      "FPE :  5589418.331730444\n",
      "HQIC:  15.865669377576724 \n",
      "\n",
      "Lag Order = 12\n",
      "AIC :  15.55440011146451\n",
      "BIC :  16.44815953570386\n",
      "FPE :  5712335.252559685\n",
      "HQIC:  15.916843545024555 \n",
      "\n"
     ]
    }
   ],
   "source": [
    "#Select order(p) of VAR Model\n",
    "\n",
    "model = VAR(df_train)\n",
    "for i in [1,2,3,4,5,6,7,8,9,10,11,12]:\n",
    "    result = model.fit(i)\n",
    "    print('Lag Order =', i)\n",
    "    print('AIC : ', result.aic)\n",
    "    print('BIC : ', result.bic)\n",
    "    print('FPE : ', result.fpe)\n",
    "    print('HQIC: ', result.hqic, '\\n')"
   ]
  },
  {
   "cell_type": "markdown",
   "id": "ccf622b9",
   "metadata": {},
   "source": [
    "**AIC drops to lowest at lag 2, then increases at lag 3**\n",
    "\n",
    "\n",
    "**Let's go with lag 2 model**"
   ]
  },
  {
   "cell_type": "code",
   "execution_count": 63,
   "id": "a5ca4f9c",
   "metadata": {},
   "outputs": [
    {
     "data": {
      "text/plain": [
       "  Summary of Regression Results   \n",
       "==================================\n",
       "Model:                         VAR\n",
       "Method:                        OLS\n",
       "Date:           Wed, 16, Feb, 2022\n",
       "Time:                     18:31:24\n",
       "--------------------------------------------------------------------\n",
       "No. of Equations:         2.00000    BIC:                    15.5008\n",
       "Nobs:                     188.000    HQIC:                   15.3984\n",
       "Log likelihood:          -1964.41    FPE:                4.54089e+06\n",
       "AIC:                      15.3286    Det(Omega_mle):     4.30866e+06\n",
       "--------------------------------------------------------------------\n",
       "Results for equation realgdp\n",
       "=============================================================================\n",
       "                coefficient       std. error           t-stat            prob\n",
       "-----------------------------------------------------------------------------\n",
       "const             23.571824         6.126038            3.848           0.000\n",
       "L1.realgdp         0.185142         0.078702            2.352           0.019\n",
       "L1.realdpi         0.215710         0.086507            2.494           0.013\n",
       "L2.realgdp         0.207991         0.076674            2.713           0.007\n",
       "L2.realdpi         0.011820         0.087931            0.134           0.893\n",
       "=============================================================================\n",
       "\n",
       "Results for equation realdpi\n",
       "=============================================================================\n",
       "                coefficient       std. error           t-stat            prob\n",
       "-----------------------------------------------------------------------------\n",
       "const             29.103223         5.655358            5.146           0.000\n",
       "L1.realgdp         0.262236         0.072655            3.609           0.000\n",
       "L1.realdpi        -0.195273         0.079860           -2.445           0.014\n",
       "L2.realgdp         0.054296         0.070783            0.767           0.443\n",
       "L2.realdpi         0.072340         0.081175            0.891           0.373\n",
       "=============================================================================\n",
       "\n",
       "Correlation matrix of residuals\n",
       "            realgdp   realdpi\n",
       "realgdp    1.000000  0.381830\n",
       "realdpi    0.381830  1.000000\n",
       "\n"
      ]
     },
     "execution_count": 63,
     "metadata": {},
     "output_type": "execute_result"
    }
   ],
   "source": [
    "#train the VAR model of selected order(p)\n",
    "\n",
    "model_fitted = model.fit(2)\n",
    "model_fitted.summary()"
   ]
  },
  {
   "cell_type": "code",
   "execution_count": 64,
   "id": "45781f7c",
   "metadata": {},
   "outputs": [
    {
     "data": {
      "text/html": [
       "<div>\n",
       "<style scoped>\n",
       "    .dataframe tbody tr th:only-of-type {\n",
       "        vertical-align: middle;\n",
       "    }\n",
       "\n",
       "    .dataframe tbody tr th {\n",
       "        vertical-align: top;\n",
       "    }\n",
       "\n",
       "    .dataframe thead th {\n",
       "        text-align: right;\n",
       "    }\n",
       "</style>\n",
       "<table border=\"1\" class=\"dataframe\">\n",
       "  <thead>\n",
       "    <tr style=\"text-align: right;\">\n",
       "      <th></th>\n",
       "      <th>lb_stat</th>\n",
       "      <th>lb_pvalue</th>\n",
       "    </tr>\n",
       "  </thead>\n",
       "  <tbody>\n",
       "    <tr>\n",
       "      <th>1</th>\n",
       "      <td>0.000666</td>\n",
       "      <td>0.979413</td>\n",
       "    </tr>\n",
       "    <tr>\n",
       "      <th>2</th>\n",
       "      <td>0.011145</td>\n",
       "      <td>0.994443</td>\n",
       "    </tr>\n",
       "  </tbody>\n",
       "</table>\n",
       "</div>"
      ],
      "text/plain": [
       "    lb_stat  lb_pvalue\n",
       "1  0.000666   0.979413\n",
       "2  0.011145   0.994443"
      ]
     },
     "execution_count": 64,
     "metadata": {},
     "output_type": "execute_result"
    }
   ],
   "source": [
    "#checking for correlation of errors using ljung-box test\n",
    "\n",
    "sm.stats.acorr_ljungbox(model_fitted.resid['realgdp'], lags=2, return_df=True)"
   ]
  },
  {
   "cell_type": "code",
   "execution_count": 65,
   "id": "e2598d6d",
   "metadata": {},
   "outputs": [
    {
     "data": {
      "text/html": [
       "<div>\n",
       "<style scoped>\n",
       "    .dataframe tbody tr th:only-of-type {\n",
       "        vertical-align: middle;\n",
       "    }\n",
       "\n",
       "    .dataframe tbody tr th {\n",
       "        vertical-align: top;\n",
       "    }\n",
       "\n",
       "    .dataframe thead th {\n",
       "        text-align: right;\n",
       "    }\n",
       "</style>\n",
       "<table border=\"1\" class=\"dataframe\">\n",
       "  <thead>\n",
       "    <tr style=\"text-align: right;\">\n",
       "      <th></th>\n",
       "      <th>lb_stat</th>\n",
       "      <th>lb_pvalue</th>\n",
       "    </tr>\n",
       "  </thead>\n",
       "  <tbody>\n",
       "    <tr>\n",
       "      <th>1</th>\n",
       "      <td>0.025873</td>\n",
       "      <td>0.872211</td>\n",
       "    </tr>\n",
       "    <tr>\n",
       "      <th>2</th>\n",
       "      <td>0.489826</td>\n",
       "      <td>0.782772</td>\n",
       "    </tr>\n",
       "  </tbody>\n",
       "</table>\n",
       "</div>"
      ],
      "text/plain": [
       "    lb_stat  lb_pvalue\n",
       "1  0.025873   0.872211\n",
       "2  0.489826   0.782772"
      ]
     },
     "execution_count": 65,
     "metadata": {},
     "output_type": "execute_result"
    }
   ],
   "source": [
    "sm.stats.acorr_ljungbox(model_fitted.resid['realdpi'], lags=2, return_df=True)"
   ]
  },
  {
   "cell_type": "markdown",
   "id": "4c5538ee",
   "metadata": {},
   "source": [
    "**Errors are independently distributed(white noise)**"
   ]
  },
  {
   "cell_type": "code",
   "execution_count": 66,
   "id": "5fe68ac2",
   "metadata": {},
   "outputs": [
    {
     "data": {
      "text/plain": [
       "<AxesSubplot:xlabel='year'>"
      ]
     },
     "execution_count": 66,
     "metadata": {},
     "output_type": "execute_result"
    },
    {
     "data": {
      "image/png": "[encoded data removed]",
      "text/plain": [
       "<Figure size 576x432 with 1 Axes>"
      ]
     },
     "metadata": {
      "needs_background": "light"
     },
     "output_type": "display_data"
    }
   ],
   "source": [
    "model_fitted.resid.plot(figsize=(8,6))"
   ]
  },
  {
   "cell_type": "code",
   "execution_count": 67,
   "id": "8d896cdc",
   "metadata": {},
   "outputs": [
    {
     "data": {
      "text/plain": [
       "array([[46.524, 83.5  ],\n",
       "       [ 3.454, 45.2  ]])"
      ]
     },
     "execution_count": 67,
     "metadata": {},
     "output_type": "execute_result"
    }
   ],
   "source": [
    "#Forecasting\n",
    "\n",
    "df_train.values[-2:]"
   ]
  },
  {
   "cell_type": "code",
   "execution_count": 68,
   "id": "f4f2a609",
   "metadata": {},
   "outputs": [
    {
     "data": {
      "text/html": [
       "<div>\n",
       "<style scoped>\n",
       "    .dataframe tbody tr th:only-of-type {\n",
       "        vertical-align: middle;\n",
       "    }\n",
       "\n",
       "    .dataframe tbody tr th {\n",
       "        vertical-align: top;\n",
       "    }\n",
       "\n",
       "    .dataframe thead th {\n",
       "        text-align: right;\n",
       "    }\n",
       "</style>\n",
       "<table border=\"1\" class=\"dataframe\">\n",
       "  <thead>\n",
       "    <tr style=\"text-align: right;\">\n",
       "      <th></th>\n",
       "      <th>realgdp_1d</th>\n",
       "      <th>realdpi_1d</th>\n",
       "    </tr>\n",
       "    <tr>\n",
       "      <th>year</th>\n",
       "      <th></th>\n",
       "      <th></th>\n",
       "    </tr>\n",
       "  </thead>\n",
       "  <tbody>\n",
       "    <tr>\n",
       "      <th>2006.0</th>\n",
       "      <td>44.624911</td>\n",
       "      <td>29.749146</td>\n",
       "    </tr>\n",
       "    <tr>\n",
       "      <th>2007.0</th>\n",
       "      <td>39.503618</td>\n",
       "      <td>38.453598</td>\n",
       "    </tr>\n",
       "    <tr>\n",
       "      <th>2007.0</th>\n",
       "      <td>48.813624</td>\n",
       "      <td>36.528572</td>\n",
       "    </tr>\n",
       "    <tr>\n",
       "      <th>2007.0</th>\n",
       "      <td>49.159755</td>\n",
       "      <td>39.697515</td>\n",
       "    </tr>\n",
       "    <tr>\n",
       "      <th>2007.0</th>\n",
       "      <td>51.821051</td>\n",
       "      <td>39.535715</td>\n",
       "    </tr>\n",
       "    <tr>\n",
       "      <th>2008.0</th>\n",
       "      <td>52.388315</td>\n",
       "      <td>40.513234</td>\n",
       "    </tr>\n",
       "    <tr>\n",
       "      <th>2008.0</th>\n",
       "      <td>53.255812</td>\n",
       "      <td>40.603902</td>\n",
       "    </tr>\n",
       "    <tr>\n",
       "      <th>2008.0</th>\n",
       "      <td>53.565520</td>\n",
       "      <td>40.915201</td>\n",
       "    </tr>\n",
       "    <tr>\n",
       "      <th>2008.0</th>\n",
       "      <td>53.871513</td>\n",
       "      <td>40.989290</td>\n",
       "    </tr>\n",
       "    <tr>\n",
       "      <th>2009.0</th>\n",
       "      <td>54.012243</td>\n",
       "      <td>41.094400</td>\n",
       "    </tr>\n",
       "    <tr>\n",
       "      <th>2009.0</th>\n",
       "      <td>54.125491</td>\n",
       "      <td>41.132753</td>\n",
       "    </tr>\n",
       "    <tr>\n",
       "      <th>2009.0</th>\n",
       "      <td>54.185244</td>\n",
       "      <td>41.170206</td>\n",
       "    </tr>\n",
       "  </tbody>\n",
       "</table>\n",
       "</div>"
      ],
      "text/plain": [
       "        realgdp_1d  realdpi_1d\n",
       "year                          \n",
       "2006.0   44.624911   29.749146\n",
       "2007.0   39.503618   38.453598\n",
       "2007.0   48.813624   36.528572\n",
       "2007.0   49.159755   39.697515\n",
       "2007.0   51.821051   39.535715\n",
       "2008.0   52.388315   40.513234\n",
       "2008.0   53.255812   40.603902\n",
       "2008.0   53.565520   40.915201\n",
       "2008.0   53.871513   40.989290\n",
       "2009.0   54.012243   41.094400\n",
       "2009.0   54.125491   41.132753\n",
       "2009.0   54.185244   41.170206"
      ]
     },
     "execution_count": 68,
     "metadata": {},
     "output_type": "execute_result"
    }
   ],
   "source": [
    "lagged_values = df_train.values[-2:]\n",
    "forecast = pd.DataFrame(model_fitted.forecast(y=lagged_values, steps=12), index = df_test.index, \n",
    "                        columns = ['realgdp_1d', 'realdpi_1d'])\n",
    "forecast"
   ]
  },
  {
   "cell_type": "code",
   "execution_count": 69,
   "id": "0ce11491",
   "metadata": {},
   "outputs": [
    {
     "data": {
      "image/png": "[encoded data removed]",
      "text/plain": [
       "<Figure size 432x288 with 1 Axes>"
      ]
     },
     "metadata": {
      "needs_background": "light"
     },
     "output_type": "display_data"
    }
   ],
   "source": [
    "x = np.arange(1,13)\n",
    "plt.plot(x,df_test['realgdp'], label = 'actual', color = 'y')\n",
    "plt.plot(x,forecast['realgdp_1d'], label = 'predicted', color=\"r\")\n",
    "plt.legend()\n",
    "plt.show()"
   ]
  },
  {
   "cell_type": "code",
   "execution_count": 70,
   "id": "6391cf53",
   "metadata": {},
   "outputs": [
    {
     "data": {
      "image/png": "[encoded data removed]",
      "text/plain": [
       "<Figure size 432x288 with 1 Axes>"
      ]
     },
     "metadata": {
      "needs_background": "light"
     },
     "output_type": "display_data"
    }
   ],
   "source": [
    "x = np.arange(1,13)\n",
    "plt.plot(x,df_test['realdpi'], label = 'actual', color = 'y')\n",
    "plt.plot(x,forecast['realdpi_1d'], label = 'predicted', color=\"r\")\n",
    "plt.legend()\n",
    "plt.show()"
   ]
  },
  {
   "cell_type": "code",
   "execution_count": 71,
   "id": "5e202459",
   "metadata": {},
   "outputs": [
    {
     "data": {
      "text/html": [
       "<div>\n",
       "<style scoped>\n",
       "    .dataframe tbody tr th:only-of-type {\n",
       "        vertical-align: middle;\n",
       "    }\n",
       "\n",
       "    .dataframe tbody tr th {\n",
       "        vertical-align: top;\n",
       "    }\n",
       "\n",
       "    .dataframe thead th {\n",
       "        text-align: right;\n",
       "    }\n",
       "</style>\n",
       "<table border=\"1\" class=\"dataframe\">\n",
       "  <thead>\n",
       "    <tr style=\"text-align: right;\">\n",
       "      <th></th>\n",
       "      <th>realgdp_1d</th>\n",
       "      <th>realdpi_1d</th>\n",
       "      <th>realgdp_forecasted</th>\n",
       "      <th>realdpi_forecasted</th>\n",
       "    </tr>\n",
       "    <tr>\n",
       "      <th>year</th>\n",
       "      <th></th>\n",
       "      <th></th>\n",
       "      <th></th>\n",
       "      <th></th>\n",
       "    </tr>\n",
       "  </thead>\n",
       "  <tbody>\n",
       "    <tr>\n",
       "      <th>2006.0</th>\n",
       "      <td>44.624911</td>\n",
       "      <td>29.749146</td>\n",
       "      <td>13010.540911</td>\n",
       "      <td>9692.249146</td>\n",
       "    </tr>\n",
       "    <tr>\n",
       "      <th>2007.0</th>\n",
       "      <td>39.503618</td>\n",
       "      <td>38.453598</td>\n",
       "      <td>13050.044529</td>\n",
       "      <td>9730.702744</td>\n",
       "    </tr>\n",
       "    <tr>\n",
       "      <th>2007.0</th>\n",
       "      <td>48.813624</td>\n",
       "      <td>36.528572</td>\n",
       "      <td>13098.858153</td>\n",
       "      <td>9767.231316</td>\n",
       "    </tr>\n",
       "    <tr>\n",
       "      <th>2007.0</th>\n",
       "      <td>49.159755</td>\n",
       "      <td>39.697515</td>\n",
       "      <td>13148.017908</td>\n",
       "      <td>9806.928831</td>\n",
       "    </tr>\n",
       "    <tr>\n",
       "      <th>2007.0</th>\n",
       "      <td>51.821051</td>\n",
       "      <td>39.535715</td>\n",
       "      <td>13199.838959</td>\n",
       "      <td>9846.464546</td>\n",
       "    </tr>\n",
       "    <tr>\n",
       "      <th>2008.0</th>\n",
       "      <td>52.388315</td>\n",
       "      <td>40.513234</td>\n",
       "      <td>13252.227274</td>\n",
       "      <td>9886.977780</td>\n",
       "    </tr>\n",
       "    <tr>\n",
       "      <th>2008.0</th>\n",
       "      <td>53.255812</td>\n",
       "      <td>40.603902</td>\n",
       "      <td>13305.483086</td>\n",
       "      <td>9927.581682</td>\n",
       "    </tr>\n",
       "    <tr>\n",
       "      <th>2008.0</th>\n",
       "      <td>53.565520</td>\n",
       "      <td>40.915201</td>\n",
       "      <td>13359.048606</td>\n",
       "      <td>9968.496883</td>\n",
       "    </tr>\n",
       "    <tr>\n",
       "      <th>2008.0</th>\n",
       "      <td>53.871513</td>\n",
       "      <td>40.989290</td>\n",
       "      <td>13412.920119</td>\n",
       "      <td>10009.486173</td>\n",
       "    </tr>\n",
       "    <tr>\n",
       "      <th>2009.0</th>\n",
       "      <td>54.012243</td>\n",
       "      <td>41.094400</td>\n",
       "      <td>13466.932362</td>\n",
       "      <td>10050.580573</td>\n",
       "    </tr>\n",
       "    <tr>\n",
       "      <th>2009.0</th>\n",
       "      <td>54.125491</td>\n",
       "      <td>41.132753</td>\n",
       "      <td>13521.057853</td>\n",
       "      <td>10091.713326</td>\n",
       "    </tr>\n",
       "    <tr>\n",
       "      <th>2009.0</th>\n",
       "      <td>54.185244</td>\n",
       "      <td>41.170206</td>\n",
       "      <td>13575.243097</td>\n",
       "      <td>10132.883533</td>\n",
       "    </tr>\n",
       "  </tbody>\n",
       "</table>\n",
       "</div>"
      ],
      "text/plain": [
       "        realgdp_1d  realdpi_1d  realgdp_forecasted  realdpi_forecasted\n",
       "year                                                                  \n",
       "2006.0   44.624911   29.749146        13010.540911         9692.249146\n",
       "2007.0   39.503618   38.453598        13050.044529         9730.702744\n",
       "2007.0   48.813624   36.528572        13098.858153         9767.231316\n",
       "2007.0   49.159755   39.697515        13148.017908         9806.928831\n",
       "2007.0   51.821051   39.535715        13199.838959         9846.464546\n",
       "2008.0   52.388315   40.513234        13252.227274         9886.977780\n",
       "2008.0   53.255812   40.603902        13305.483086         9927.581682\n",
       "2008.0   53.565520   40.915201        13359.048606         9968.496883\n",
       "2008.0   53.871513   40.989290        13412.920119        10009.486173\n",
       "2009.0   54.012243   41.094400        13466.932362        10050.580573\n",
       "2009.0   54.125491   41.132753        13521.057853        10091.713326\n",
       "2009.0   54.185244   41.170206        13575.243097        10132.883533"
      ]
     },
     "execution_count": 71,
     "metadata": {},
     "output_type": "execute_result"
    }
   ],
   "source": [
    "#Transforming to Original Forecast\n",
    "\n",
    "forecast[\"realgdp_forecasted\"] = df[\"realgdp\"].iloc[-12-1] + forecast['realgdp_1d'].cumsum()\n",
    "forecast[\"realdpi_forecasted\"] = df[\"realdpi\"].iloc[-12-1] + forecast['realdpi_1d'].cumsum() \n",
    "\n",
    "forecast"
   ]
  },
  {
   "cell_type": "code",
   "execution_count": 72,
   "id": "74a6c7f5",
   "metadata": {},
   "outputs": [],
   "source": [
    "#Actual vs Predicted - RealGDP\n",
    "realgdp_pred = pd.DataFrame()\n",
    "realgdp_pred['actual'] = df.iloc[-12:,0]\n",
    "realgdp_pred['predicted'] = forecast['realgdp_forecasted']"
   ]
  },
  {
   "cell_type": "code",
   "execution_count": 73,
   "id": "b4989935",
   "metadata": {},
   "outputs": [
    {
     "data": {
      "text/html": [
       "<div>\n",
       "<style scoped>\n",
       "    .dataframe tbody tr th:only-of-type {\n",
       "        vertical-align: middle;\n",
       "    }\n",
       "\n",
       "    .dataframe tbody tr th {\n",
       "        vertical-align: top;\n",
       "    }\n",
       "\n",
       "    .dataframe thead th {\n",
       "        text-align: right;\n",
       "    }\n",
       "</style>\n",
       "<table border=\"1\" class=\"dataframe\">\n",
       "  <thead>\n",
       "    <tr style=\"text-align: right;\">\n",
       "      <th></th>\n",
       "      <th>actual</th>\n",
       "      <th>predicted</th>\n",
       "    </tr>\n",
       "    <tr>\n",
       "      <th>year</th>\n",
       "      <th></th>\n",
       "      <th></th>\n",
       "    </tr>\n",
       "  </thead>\n",
       "  <tbody>\n",
       "    <tr>\n",
       "      <th>2006.0</th>\n",
       "      <td>13060.679</td>\n",
       "      <td>13010.540911</td>\n",
       "    </tr>\n",
       "    <tr>\n",
       "      <th>2007.0</th>\n",
       "      <td>13099.901</td>\n",
       "      <td>13050.044529</td>\n",
       "    </tr>\n",
       "    <tr>\n",
       "      <th>2007.0</th>\n",
       "      <td>13203.977</td>\n",
       "      <td>13098.858153</td>\n",
       "    </tr>\n",
       "    <tr>\n",
       "      <th>2007.0</th>\n",
       "      <td>13321.109</td>\n",
       "      <td>13148.017908</td>\n",
       "    </tr>\n",
       "    <tr>\n",
       "      <th>2007.0</th>\n",
       "      <td>13391.249</td>\n",
       "      <td>13199.838959</td>\n",
       "    </tr>\n",
       "    <tr>\n",
       "      <th>2008.0</th>\n",
       "      <td>13366.865</td>\n",
       "      <td>13252.227274</td>\n",
       "    </tr>\n",
       "    <tr>\n",
       "      <th>2008.0</th>\n",
       "      <td>13415.266</td>\n",
       "      <td>13305.483086</td>\n",
       "    </tr>\n",
       "    <tr>\n",
       "      <th>2008.0</th>\n",
       "      <td>13324.600</td>\n",
       "      <td>13359.048606</td>\n",
       "    </tr>\n",
       "    <tr>\n",
       "      <th>2008.0</th>\n",
       "      <td>13141.920</td>\n",
       "      <td>13412.920119</td>\n",
       "    </tr>\n",
       "    <tr>\n",
       "      <th>2009.0</th>\n",
       "      <td>12925.410</td>\n",
       "      <td>13466.932362</td>\n",
       "    </tr>\n",
       "    <tr>\n",
       "      <th>2009.0</th>\n",
       "      <td>12901.504</td>\n",
       "      <td>13521.057853</td>\n",
       "    </tr>\n",
       "    <tr>\n",
       "      <th>2009.0</th>\n",
       "      <td>12990.341</td>\n",
       "      <td>13575.243097</td>\n",
       "    </tr>\n",
       "  </tbody>\n",
       "</table>\n",
       "</div>"
      ],
      "text/plain": [
       "           actual     predicted\n",
       "year                           \n",
       "2006.0  13060.679  13010.540911\n",
       "2007.0  13099.901  13050.044529\n",
       "2007.0  13203.977  13098.858153\n",
       "2007.0  13321.109  13148.017908\n",
       "2007.0  13391.249  13199.838959\n",
       "2008.0  13366.865  13252.227274\n",
       "2008.0  13415.266  13305.483086\n",
       "2008.0  13324.600  13359.048606\n",
       "2008.0  13141.920  13412.920119\n",
       "2009.0  12925.410  13466.932362\n",
       "2009.0  12901.504  13521.057853\n",
       "2009.0  12990.341  13575.243097"
      ]
     },
     "execution_count": 73,
     "metadata": {},
     "output_type": "execute_result"
    }
   ],
   "source": [
    "realgdp_pred"
   ]
  },
  {
   "cell_type": "code",
   "execution_count": 74,
   "id": "8941b0b2",
   "metadata": {},
   "outputs": [
    {
     "name": "stdout",
     "output_type": "stream",
     "text": [
      "RMSE of realgdp:  316.44820205011126\n"
     ]
    }
   ],
   "source": [
    "#Performance metric\n",
    "print('RMSE of realgdp: ',rmse(realgdp_pred['actual'],realgdp_pred['predicted']))"
   ]
  },
  {
   "cell_type": "code",
   "execution_count": null,
   "id": "147c1305",
   "metadata": {},
   "outputs": [],
   "source": []
  },
  {
   "cell_type": "code",
   "execution_count": 75,
   "id": "ec38c3aa",
   "metadata": {},
   "outputs": [],
   "source": [
    "#Actual vs Predicted - RealDPI\n",
    "realdpi_pred = pd.DataFrame()\n",
    "realdpi_pred['actual'] = df.iloc[-12:,1]\n",
    "realdpi_pred['predicted'] = forecast['realdpi_forecasted']"
   ]
  },
  {
   "cell_type": "code",
   "execution_count": 76,
   "id": "71395c26",
   "metadata": {},
   "outputs": [
    {
     "data": {
      "text/html": [
       "<div>\n",
       "<style scoped>\n",
       "    .dataframe tbody tr th:only-of-type {\n",
       "        vertical-align: middle;\n",
       "    }\n",
       "\n",
       "    .dataframe tbody tr th {\n",
       "        vertical-align: top;\n",
       "    }\n",
       "\n",
       "    .dataframe thead th {\n",
       "        text-align: right;\n",
       "    }\n",
       "</style>\n",
       "<table border=\"1\" class=\"dataframe\">\n",
       "  <thead>\n",
       "    <tr style=\"text-align: right;\">\n",
       "      <th></th>\n",
       "      <th>actual</th>\n",
       "      <th>predicted</th>\n",
       "    </tr>\n",
       "    <tr>\n",
       "      <th>year</th>\n",
       "      <th></th>\n",
       "      <th></th>\n",
       "    </tr>\n",
       "  </thead>\n",
       "  <tbody>\n",
       "    <tr>\n",
       "      <th>2006.0</th>\n",
       "      <td>9788.8</td>\n",
       "      <td>9692.249146</td>\n",
       "    </tr>\n",
       "    <tr>\n",
       "      <th>2007.0</th>\n",
       "      <td>9830.2</td>\n",
       "      <td>9730.702744</td>\n",
       "    </tr>\n",
       "    <tr>\n",
       "      <th>2007.0</th>\n",
       "      <td>9842.7</td>\n",
       "      <td>9767.231316</td>\n",
       "    </tr>\n",
       "    <tr>\n",
       "      <th>2007.0</th>\n",
       "      <td>9883.9</td>\n",
       "      <td>9806.928831</td>\n",
       "    </tr>\n",
       "    <tr>\n",
       "      <th>2007.0</th>\n",
       "      <td>9886.2</td>\n",
       "      <td>9846.464546</td>\n",
       "    </tr>\n",
       "    <tr>\n",
       "      <th>2008.0</th>\n",
       "      <td>9826.8</td>\n",
       "      <td>9886.977780</td>\n",
       "    </tr>\n",
       "    <tr>\n",
       "      <th>2008.0</th>\n",
       "      <td>10059.0</td>\n",
       "      <td>9927.581682</td>\n",
       "    </tr>\n",
       "    <tr>\n",
       "      <th>2008.0</th>\n",
       "      <td>9838.3</td>\n",
       "      <td>9968.496883</td>\n",
       "    </tr>\n",
       "    <tr>\n",
       "      <th>2008.0</th>\n",
       "      <td>9920.4</td>\n",
       "      <td>10009.486173</td>\n",
       "    </tr>\n",
       "    <tr>\n",
       "      <th>2009.0</th>\n",
       "      <td>9926.4</td>\n",
       "      <td>10050.580573</td>\n",
       "    </tr>\n",
       "    <tr>\n",
       "      <th>2009.0</th>\n",
       "      <td>10077.5</td>\n",
       "      <td>10091.713326</td>\n",
       "    </tr>\n",
       "    <tr>\n",
       "      <th>2009.0</th>\n",
       "      <td>10040.6</td>\n",
       "      <td>10132.883533</td>\n",
       "    </tr>\n",
       "  </tbody>\n",
       "</table>\n",
       "</div>"
      ],
      "text/plain": [
       "         actual     predicted\n",
       "year                         \n",
       "2006.0   9788.8   9692.249146\n",
       "2007.0   9830.2   9730.702744\n",
       "2007.0   9842.7   9767.231316\n",
       "2007.0   9883.9   9806.928831\n",
       "2007.0   9886.2   9846.464546\n",
       "2008.0   9826.8   9886.977780\n",
       "2008.0  10059.0   9927.581682\n",
       "2008.0   9838.3   9968.496883\n",
       "2008.0   9920.4  10009.486173\n",
       "2009.0   9926.4  10050.580573\n",
       "2009.0  10077.5  10091.713326\n",
       "2009.0  10040.6  10132.883533"
      ]
     },
     "execution_count": 76,
     "metadata": {},
     "output_type": "execute_result"
    }
   ],
   "source": [
    "realdpi_pred"
   ]
  },
  {
   "cell_type": "code",
   "execution_count": 77,
   "id": "5e49c083",
   "metadata": {},
   "outputs": [
    {
     "name": "stdout",
     "output_type": "stream",
     "text": [
      "RMSE of realdpi:  92.34877649113082\n"
     ]
    }
   ],
   "source": [
    "#Performance metric\n",
    "print('RMSE of realdpi: ',rmse(realdpi_pred['actual'],realdpi_pred['predicted']))"
   ]
  },
  {
   "cell_type": "code",
   "execution_count": null,
   "id": "cf6b3bea",
   "metadata": {},
   "outputs": [],
   "source": []
  }
 ],
 "metadata": {
  "kernelspec": {
   "display_name": "Python 3",
   "language": "python",
   "name": "python3"
  },
  "language_info": {
   "codemirror_mode": {
    "name": "ipython",
    "version": 3
   },
   "file_extension": ".py",
   "mimetype": "text/x-python",
   "name": "python",
   "nbconvert_exporter": "python",
   "pygments_lexer": "ipython3",
   "version": "3.8.8"
  }
 },
 "nbformat": 4,
 "nbformat_minor": 5
}
