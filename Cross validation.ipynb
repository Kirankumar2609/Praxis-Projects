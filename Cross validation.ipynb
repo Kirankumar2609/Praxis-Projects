{
 "cells": [
  {
   "cell_type": "code",
   "execution_count": null,
   "id": "3783a972",
   "metadata": {},
   "outputs": [],
   "source": []
  },
  {
   "cell_type": "code",
   "execution_count": 1,
   "id": "743ee3f6",
   "metadata": {},
   "outputs": [],
   "source": [
    "import numpy as np\n",
    "import pandas as pd\n",
    "import warnings\n",
    "warnings.filterwarnings(\"ignore\")\n",
    "import time\n",
    "import os\n",
    "from sklearn.linear_model import LinearRegression\n",
    "from sklearn.neighbors import KNeighborsRegressor\n",
    "os.chdir(r\"D:\\DS\\Python\\Praxis\\IML\")\n",
    "cars = pd.read_csv(\"cars.csv\") #reading the csv file"
   ]
  },
  {
   "cell_type": "code",
   "execution_count": 2,
   "id": "80f5f686",
   "metadata": {},
   "outputs": [],
   "source": [
    "#cars.corr() #checking correlation between the target variable (MPG) and predictors(Weight, Horsepower, etc,.)"
   ]
  },
  {
   "cell_type": "code",
   "execution_count": 8,
   "id": "af07cdcb",
   "metadata": {},
   "outputs": [],
   "source": [
    "cars =  cars.sample(len(cars))           #randomly shuffling the data\n",
    "X_train = pd.DataFrame(cars.iloc[:,[5]]) #setting the predictors (Only Weight is set for now. The below function can accomodate any number of numerical predictors)\n",
    "y_train = pd.DataFrame(cars.iloc[:,1])   #setting the target variable"
   ]
  },
  {
   "cell_type": "code",
   "execution_count": 6,
   "id": "640e3a56",
   "metadata": {},
   "outputs": [],
   "source": [
    "def CV(model,X_train,y_train,k):                                   #creating the function\n",
    "    #start = time.time()\n",
    "    cv = np.array([])                                              #creating an empty Cross validation score array\n",
    "    mse = 0                                                        #creating a variable to store mean square error\n",
    "    z = int(len(X_train)/k)                                        #creating a variable to store the size of fold\n",
    "    for i in range(k):                                             #starting the loop for each fold(k)                                        \n",
    "        if i == 0:                                                 #at start of index\n",
    "            yy_train = y_train.iloc[(i*z)+z:len(X_train),:]        #training target variable data is stored as dataframe\n",
    "            XX_train = X_train.iloc[(i*z)+z:len(X_train),:]        #training predictor data is stored as dataframe \n",
    "            y_test = y_train.iloc[i*z:(i*z)+z,:]                   #testing target variable data is stored as dataframe\n",
    "            X_test = X_train.iloc[i*z:(i*z)+z,:]                   #testing predictor data is stored as dataframe\n",
    "        if i>0 and i<k-1:                                          #except at the first and at the last index\n",
    "            yy_train = y_train.iloc[0:i*z].append(y_train.iloc[(i+1)*z:len(X_train),:])\n",
    "            XX_train = X_train.iloc[0:i*z].append(X_train.iloc[(i+1)*z:len(X_train),:])\n",
    "            y_test = y_train.iloc[i*z:(i*z)+z,:]\n",
    "            X_test = X_train.iloc[i*z:(i*z)+z,:]\n",
    "        elif i==k-1:                                               #at the last index\n",
    "            yy_train = y_train.iloc[0:i*z,:]\n",
    "            XX_train = X_train.iloc[0:i*z,:]\n",
    "            y_test = y_train.iloc[i*z:(i*z)+z+(len(X_train)%k),:]\n",
    "            X_test = X_train.iloc[i*z:(i*z)+z+(len(X_train)%k),:]\n",
    "        #XX_train = (XX_train-XX_train.mean())/(XX_train.std())\n",
    "        #X_test = (X_test-X_test.mean())/(X_test.std())\n",
    "        lr = model.fit(XX_train,yy_train)                          #data is fitted to the input Model                                                     \n",
    "        y_star = lr.predict(X_test).flatten()                      #array to store the predicted values of target variable\n",
    "        y_test = np.array(y_test).flatten()                        #testing target variable data is stored in an array\n",
    "        mse = np.sum((y_test-y_star)**2)/len(y_test)               #performance metric - mean square error is calculated\n",
    "        cv = np.append(cv,mse)                                     #mse's are stored in the cross validation array\n",
    "    print(\"CV score: \",np.mean(cv))                                #mean of mse's is calculated to find the final Cross Validation score\n",
    "    #stop=time.time()\n",
    "    #print(\"Time taken: \"+str((stop-start))+ \" sec\")"
   ]
  },
  {
   "cell_type": "code",
   "execution_count": 9,
   "id": "6e0c63bd",
   "metadata": {},
   "outputs": [
    {
     "name": "stdout",
     "output_type": "stream",
     "text": [
      "CV score:  28.363353224898493\n",
      "CV score:  27.397968606280195\n"
     ]
    }
   ],
   "source": [
    "m = LinearRegression()                  #variable created to store Linear Regression function\n",
    "n = KNeighborsRegressor(n_neighbors=30) #variable created to store KNN Regression function\n",
    "CV(m,X_train,y_train,10)                #calling function to find CV score of Linear Regression Model\n",
    "CV(n,X_train,y_train,10)                #calling function to find CV score of KNN Regression Model"
   ]
  },
  {
   "cell_type": "code",
   "execution_count": null,
   "id": "8cd27b88",
   "metadata": {},
   "outputs": [],
   "source": []
  },
  {
   "cell_type": "code",
   "execution_count": null,
   "id": "4abba253",
   "metadata": {},
   "outputs": [],
   "source": []
  }
 ],
 "metadata": {
  "kernelspec": {
   "display_name": "Python 3",
   "language": "python",
   "name": "python3"
  },
  "language_info": {
   "codemirror_mode": {
    "name": "ipython",
    "version": 3
   },
   "file_extension": ".py",
   "mimetype": "text/x-python",
   "name": "python",
   "nbconvert_exporter": "python",
   "pygments_lexer": "ipython3",
   "version": "3.8.8"
  }
 },
 "nbformat": 4,
 "nbformat_minor": 5
}
